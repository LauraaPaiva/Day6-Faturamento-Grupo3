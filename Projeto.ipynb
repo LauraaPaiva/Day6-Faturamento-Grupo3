{
  "cells": [
    {
      "cell_type": "markdown",
      "metadata": {},
      "source": [
        "# Day 6 - Dinâmica de Faturamento"
      ]
    },
    {
      "cell_type": "markdown",
      "metadata": {},
      "source": [
        "## Preparação"
      ]
    },
    {
      "cell_type": "markdown",
      "metadata": {},
      "source": [
        "### Instalando Bibliotecas"
      ]
    },
    {
      "cell_type": "code",
      "execution_count": 13,
      "metadata": {
        "id": "8_UUXmrUlubx"
      },
      "outputs": [
        {
          "name": "stdout",
          "output_type": "stream",
          "text": [
            "Requirement already satisfied: numpy in c:\\users\\laura\\appdata\\roaming\\python\\python38\\site-packages (from -r requirements.txt (line 1)) (1.19.5)\n",
            "Requirement already satisfied: pandas in c:\\programdata\\anaconda3\\lib\\site-packages (from -r requirements.txt (line 2)) (1.2.4)\n",
            "Requirement already satisfied: seaborn in c:\\programdata\\anaconda3\\lib\\site-packages (from -r requirements.txt (line 3)) (0.11.1)\n",
            "Requirement already satisfied: category-encoders in c:\\programdata\\anaconda3\\lib\\site-packages (from -r requirements.txt (line 4)) (2.2.2)\n",
            "Requirement already satisfied: streamlit in c:\\users\\laura\\appdata\\roaming\\python\\python38\\site-packages (from -r requirements.txt (line 5)) (0.88.0)\n",
            "Requirement already satisfied: scikit-learn in c:\\programdata\\anaconda3\\lib\\site-packages (from -r requirements.txt (line 6)) (0.24.1)\n",
            "Requirement already satisfied: imbalanced-learn in c:\\programdata\\anaconda3\\lib\\site-packages (from -r requirements.txt (line 7)) (0.8.0)\n",
            "Requirement already satisfied: tpot in c:\\programdata\\anaconda3\\lib\\site-packages (from -r requirements.txt (line 8)) (0.11.7)\n",
            "Requirement already satisfied: jupyter in c:\\programdata\\anaconda3\\lib\\site-packages (from -r requirements.txt (line 9)) (1.0.0)\n",
            "Requirement already satisfied: yellowbrick in c:\\users\\laura\\appdata\\roaming\\python\\python38\\site-packages (from -r requirements.txt (line 10)) (1.3.post1)\n",
            "Requirement already satisfied: sweetviz in c:\\programdata\\anaconda3\\lib\\site-packages (from -r requirements.txt (line 11)) (2.1.3)\n",
            "Requirement already satisfied: imblearn in c:\\programdata\\anaconda3\\lib\\site-packages (from -r requirements.txt (line 12)) (0.0)\n"
          ]
        },
        {
          "name": "stderr",
          "output_type": "stream",
          "text": [
            "ERROR: Could not find a version that satisfies the requirement skopt\n",
            "ERROR: No matching distribution found for skopt\n",
            "C:\\ProgramData\\Anaconda3\\lib\\site-packages\\tpot\\builtins\\__init__.py:36: UserWarning: Warning: optional dependency `torch` is not available. - skipping import of NN models.\n",
            "  warnings.warn(\"Warning: optional dependency `torch` is not available. - skipping import of NN models.\")\n"
          ]
        }
      ],
      "source": [
        "!pip install --user -r requirements.txt\n",
        "\n",
        "import pandas as pd\n",
        "import numpy as np\n",
        "from sklearn.model_selection import train_test_split\n",
        "from sklearn.linear_model import LinearRegression\n",
        "from sklearn.preprocessing import StandardScaler\n",
        "from category_encoders import OrdinalEncoder\n",
        "from imblearn.over_sampling import RandomOverSampler\n",
        "from sklearn.tree import DecisionTreeClassifier\n",
        "from sklearn.metrics import confusion_matrix, classification_report\n",
        "from sklearn.linear_model import LogisticRegression\n",
        "from scipy.stats import norm\n",
        "import scipy.stats as st\n",
        "import sweetviz as sv\n",
        "import seaborn as sns\n",
        "import statistics  as sts\n",
        "import matplotlib.pyplot as plt\n",
        "import statsmodels.formula.api as sm\n",
        "from tpot import TPOTClassifier\n",
        "from yellowbrick.model_selection import FeatureImportances\n",
        "import chardet\n",
        "from datetime import datetime\n",
        "from datetime import date\n",
        "import os\n",
        "import random"
      ]
    },
    {
      "cell_type": "markdown",
      "metadata": {},
      "source": [
        "### Lendo Dados"
      ]
    },
    {
      "cell_type": "code",
      "execution_count": 14,
      "metadata": {},
      "outputs": [],
      "source": [
        "df_features = pd.read_csv('Dados/features.csv')\n",
        "df_stores = pd.read_csv('Dados/stores.csv')\n",
        "df_train = pd.read_csv('Dados/train.csv')"
      ]
    },
    {
      "cell_type": "code",
      "execution_count": 15,
      "metadata": {
        "colab": {
          "base_uri": "https://localhost:8080/",
          "height": 111
        },
        "id": "3DW78T4jHjEs",
        "outputId": "8d7cd352-0639-4bbc-edc2-3a4f1b155a8f"
      },
      "outputs": [
        {
          "data": {
            "text/html": [
              "<div>\n",
              "<style scoped>\n",
              "    .dataframe tbody tr th:only-of-type {\n",
              "        vertical-align: middle;\n",
              "    }\n",
              "\n",
              "    .dataframe tbody tr th {\n",
              "        vertical-align: top;\n",
              "    }\n",
              "\n",
              "    .dataframe thead th {\n",
              "        text-align: right;\n",
              "    }\n",
              "</style>\n",
              "<table border=\"1\" class=\"dataframe\">\n",
              "  <thead>\n",
              "    <tr style=\"text-align: right;\">\n",
              "      <th></th>\n",
              "      <th>Store</th>\n",
              "      <th>Date</th>\n",
              "      <th>Temperature</th>\n",
              "      <th>Fuel_Price</th>\n",
              "      <th>MarkDown1</th>\n",
              "      <th>MarkDown2</th>\n",
              "      <th>MarkDown3</th>\n",
              "      <th>MarkDown4</th>\n",
              "      <th>MarkDown5</th>\n",
              "      <th>CPI</th>\n",
              "      <th>Unemployment</th>\n",
              "      <th>IsHoliday</th>\n",
              "    </tr>\n",
              "  </thead>\n",
              "  <tbody>\n",
              "    <tr>\n",
              "      <th>0</th>\n",
              "      <td>1</td>\n",
              "      <td>2010-02-05</td>\n",
              "      <td>42.31</td>\n",
              "      <td>2.572</td>\n",
              "      <td>NaN</td>\n",
              "      <td>NaN</td>\n",
              "      <td>NaN</td>\n",
              "      <td>NaN</td>\n",
              "      <td>NaN</td>\n",
              "      <td>211.096358</td>\n",
              "      <td>8.106</td>\n",
              "      <td>False</td>\n",
              "    </tr>\n",
              "    <tr>\n",
              "      <th>1</th>\n",
              "      <td>1</td>\n",
              "      <td>2010-02-12</td>\n",
              "      <td>38.51</td>\n",
              "      <td>2.548</td>\n",
              "      <td>NaN</td>\n",
              "      <td>NaN</td>\n",
              "      <td>NaN</td>\n",
              "      <td>NaN</td>\n",
              "      <td>NaN</td>\n",
              "      <td>211.242170</td>\n",
              "      <td>8.106</td>\n",
              "      <td>True</td>\n",
              "    </tr>\n",
              "  </tbody>\n",
              "</table>\n",
              "</div>"
            ],
            "text/plain": [
              "   Store        Date  Temperature  Fuel_Price  MarkDown1  MarkDown2  \\\n",
              "0      1  2010-02-05        42.31       2.572        NaN        NaN   \n",
              "1      1  2010-02-12        38.51       2.548        NaN        NaN   \n",
              "\n",
              "   MarkDown3  MarkDown4  MarkDown5         CPI  Unemployment  IsHoliday  \n",
              "0        NaN        NaN        NaN  211.096358         8.106      False  \n",
              "1        NaN        NaN        NaN  211.242170         8.106       True  "
            ]
          },
          "execution_count": 15,
          "metadata": {},
          "output_type": "execute_result"
        }
      ],
      "source": [
        "df_features.head(2)"
      ]
    },
    {
      "cell_type": "code",
      "execution_count": 16,
      "metadata": {
        "colab": {
          "base_uri": "https://localhost:8080/",
          "height": 111
        },
        "id": "FcMnJ9-RHnFR",
        "outputId": "0f11fe6d-216e-46fd-a770-436aa378dbcf"
      },
      "outputs": [
        {
          "data": {
            "text/html": [
              "<div>\n",
              "<style scoped>\n",
              "    .dataframe tbody tr th:only-of-type {\n",
              "        vertical-align: middle;\n",
              "    }\n",
              "\n",
              "    .dataframe tbody tr th {\n",
              "        vertical-align: top;\n",
              "    }\n",
              "\n",
              "    .dataframe thead th {\n",
              "        text-align: right;\n",
              "    }\n",
              "</style>\n",
              "<table border=\"1\" class=\"dataframe\">\n",
              "  <thead>\n",
              "    <tr style=\"text-align: right;\">\n",
              "      <th></th>\n",
              "      <th>Store</th>\n",
              "      <th>Type</th>\n",
              "      <th>Size</th>\n",
              "    </tr>\n",
              "  </thead>\n",
              "  <tbody>\n",
              "    <tr>\n",
              "      <th>0</th>\n",
              "      <td>1</td>\n",
              "      <td>A</td>\n",
              "      <td>151315</td>\n",
              "    </tr>\n",
              "    <tr>\n",
              "      <th>1</th>\n",
              "      <td>2</td>\n",
              "      <td>A</td>\n",
              "      <td>202307</td>\n",
              "    </tr>\n",
              "  </tbody>\n",
              "</table>\n",
              "</div>"
            ],
            "text/plain": [
              "   Store Type    Size\n",
              "0      1    A  151315\n",
              "1      2    A  202307"
            ]
          },
          "execution_count": 16,
          "metadata": {},
          "output_type": "execute_result"
        }
      ],
      "source": [
        "df_stores.head(2)"
      ]
    },
    {
      "cell_type": "code",
      "execution_count": 17,
      "metadata": {
        "colab": {
          "base_uri": "https://localhost:8080/",
          "height": 111
        },
        "id": "VmcJow0QHpPq",
        "outputId": "af4c83e8-c977-43aa-c0a4-3405f541b354"
      },
      "outputs": [
        {
          "data": {
            "text/html": [
              "<div>\n",
              "<style scoped>\n",
              "    .dataframe tbody tr th:only-of-type {\n",
              "        vertical-align: middle;\n",
              "    }\n",
              "\n",
              "    .dataframe tbody tr th {\n",
              "        vertical-align: top;\n",
              "    }\n",
              "\n",
              "    .dataframe thead th {\n",
              "        text-align: right;\n",
              "    }\n",
              "</style>\n",
              "<table border=\"1\" class=\"dataframe\">\n",
              "  <thead>\n",
              "    <tr style=\"text-align: right;\">\n",
              "      <th></th>\n",
              "      <th>Store</th>\n",
              "      <th>Dept</th>\n",
              "      <th>Date</th>\n",
              "      <th>Weekly_Sales</th>\n",
              "      <th>IsHoliday</th>\n",
              "    </tr>\n",
              "  </thead>\n",
              "  <tbody>\n",
              "    <tr>\n",
              "      <th>0</th>\n",
              "      <td>1</td>\n",
              "      <td>1</td>\n",
              "      <td>2010-02-05</td>\n",
              "      <td>24924.50</td>\n",
              "      <td>False</td>\n",
              "    </tr>\n",
              "    <tr>\n",
              "      <th>1</th>\n",
              "      <td>1</td>\n",
              "      <td>1</td>\n",
              "      <td>2010-02-12</td>\n",
              "      <td>46039.49</td>\n",
              "      <td>True</td>\n",
              "    </tr>\n",
              "  </tbody>\n",
              "</table>\n",
              "</div>"
            ],
            "text/plain": [
              "   Store  Dept        Date  Weekly_Sales  IsHoliday\n",
              "0      1     1  2010-02-05      24924.50      False\n",
              "1      1     1  2010-02-12      46039.49       True"
            ]
          },
          "execution_count": 17,
          "metadata": {},
          "output_type": "execute_result"
        }
      ],
      "source": [
        "df_train.head(2)"
      ]
    },
    {
      "cell_type": "markdown",
      "metadata": {},
      "source": [
        "### Mesclando Dados"
      ]
    },
    {
      "cell_type": "code",
      "execution_count": 18,
      "metadata": {
        "colab": {
          "base_uri": "https://localhost:8080/",
          "height": 609
        },
        "id": "LmANV6kVI8kh",
        "outputId": "d1e9a436-7e66-46d7-9d61-07f75d0ce1c1"
      },
      "outputs": [
        {
          "data": {
            "text/html": [
              "<div>\n",
              "<style scoped>\n",
              "    .dataframe tbody tr th:only-of-type {\n",
              "        vertical-align: middle;\n",
              "    }\n",
              "\n",
              "    .dataframe tbody tr th {\n",
              "        vertical-align: top;\n",
              "    }\n",
              "\n",
              "    .dataframe thead th {\n",
              "        text-align: right;\n",
              "    }\n",
              "</style>\n",
              "<table border=\"1\" class=\"dataframe\">\n",
              "  <thead>\n",
              "    <tr style=\"text-align: right;\">\n",
              "      <th></th>\n",
              "      <th>Store</th>\n",
              "      <th>Date</th>\n",
              "      <th>Temperature</th>\n",
              "      <th>Fuel_Price</th>\n",
              "      <th>MarkDown1</th>\n",
              "      <th>MarkDown2</th>\n",
              "      <th>MarkDown3</th>\n",
              "      <th>MarkDown4</th>\n",
              "      <th>MarkDown5</th>\n",
              "      <th>CPI</th>\n",
              "      <th>Unemployment</th>\n",
              "      <th>IsHoliday_x</th>\n",
              "      <th>Type</th>\n",
              "      <th>Size</th>\n",
              "      <th>Dept</th>\n",
              "      <th>Weekly_Sales</th>\n",
              "      <th>IsHoliday_y</th>\n",
              "    </tr>\n",
              "  </thead>\n",
              "  <tbody>\n",
              "    <tr>\n",
              "      <th>0</th>\n",
              "      <td>1</td>\n",
              "      <td>2010-02-05</td>\n",
              "      <td>42.31</td>\n",
              "      <td>2.572</td>\n",
              "      <td>NaN</td>\n",
              "      <td>NaN</td>\n",
              "      <td>NaN</td>\n",
              "      <td>NaN</td>\n",
              "      <td>NaN</td>\n",
              "      <td>211.096358</td>\n",
              "      <td>8.106</td>\n",
              "      <td>False</td>\n",
              "      <td>A</td>\n",
              "      <td>151315</td>\n",
              "      <td>1.0</td>\n",
              "      <td>24924.50</td>\n",
              "      <td>False</td>\n",
              "    </tr>\n",
              "    <tr>\n",
              "      <th>1</th>\n",
              "      <td>1</td>\n",
              "      <td>2010-02-05</td>\n",
              "      <td>42.31</td>\n",
              "      <td>2.572</td>\n",
              "      <td>NaN</td>\n",
              "      <td>NaN</td>\n",
              "      <td>NaN</td>\n",
              "      <td>NaN</td>\n",
              "      <td>NaN</td>\n",
              "      <td>211.096358</td>\n",
              "      <td>8.106</td>\n",
              "      <td>False</td>\n",
              "      <td>A</td>\n",
              "      <td>151315</td>\n",
              "      <td>2.0</td>\n",
              "      <td>50605.27</td>\n",
              "      <td>False</td>\n",
              "    </tr>\n",
              "    <tr>\n",
              "      <th>2</th>\n",
              "      <td>1</td>\n",
              "      <td>2010-02-05</td>\n",
              "      <td>42.31</td>\n",
              "      <td>2.572</td>\n",
              "      <td>NaN</td>\n",
              "      <td>NaN</td>\n",
              "      <td>NaN</td>\n",
              "      <td>NaN</td>\n",
              "      <td>NaN</td>\n",
              "      <td>211.096358</td>\n",
              "      <td>8.106</td>\n",
              "      <td>False</td>\n",
              "      <td>A</td>\n",
              "      <td>151315</td>\n",
              "      <td>3.0</td>\n",
              "      <td>13740.12</td>\n",
              "      <td>False</td>\n",
              "    </tr>\n",
              "    <tr>\n",
              "      <th>3</th>\n",
              "      <td>1</td>\n",
              "      <td>2010-02-05</td>\n",
              "      <td>42.31</td>\n",
              "      <td>2.572</td>\n",
              "      <td>NaN</td>\n",
              "      <td>NaN</td>\n",
              "      <td>NaN</td>\n",
              "      <td>NaN</td>\n",
              "      <td>NaN</td>\n",
              "      <td>211.096358</td>\n",
              "      <td>8.106</td>\n",
              "      <td>False</td>\n",
              "      <td>A</td>\n",
              "      <td>151315</td>\n",
              "      <td>4.0</td>\n",
              "      <td>39954.04</td>\n",
              "      <td>False</td>\n",
              "    </tr>\n",
              "    <tr>\n",
              "      <th>4</th>\n",
              "      <td>1</td>\n",
              "      <td>2010-02-05</td>\n",
              "      <td>42.31</td>\n",
              "      <td>2.572</td>\n",
              "      <td>NaN</td>\n",
              "      <td>NaN</td>\n",
              "      <td>NaN</td>\n",
              "      <td>NaN</td>\n",
              "      <td>NaN</td>\n",
              "      <td>211.096358</td>\n",
              "      <td>8.106</td>\n",
              "      <td>False</td>\n",
              "      <td>A</td>\n",
              "      <td>151315</td>\n",
              "      <td>5.0</td>\n",
              "      <td>32229.38</td>\n",
              "      <td>False</td>\n",
              "    </tr>\n",
              "    <tr>\n",
              "      <th>...</th>\n",
              "      <td>...</td>\n",
              "      <td>...</td>\n",
              "      <td>...</td>\n",
              "      <td>...</td>\n",
              "      <td>...</td>\n",
              "      <td>...</td>\n",
              "      <td>...</td>\n",
              "      <td>...</td>\n",
              "      <td>...</td>\n",
              "      <td>...</td>\n",
              "      <td>...</td>\n",
              "      <td>...</td>\n",
              "      <td>...</td>\n",
              "      <td>...</td>\n",
              "      <td>...</td>\n",
              "      <td>...</td>\n",
              "      <td>...</td>\n",
              "    </tr>\n",
              "    <tr>\n",
              "      <th>423320</th>\n",
              "      <td>45</td>\n",
              "      <td>2013-06-28</td>\n",
              "      <td>76.05</td>\n",
              "      <td>3.639</td>\n",
              "      <td>4842.29</td>\n",
              "      <td>975.03</td>\n",
              "      <td>3.00</td>\n",
              "      <td>2449.97</td>\n",
              "      <td>3169.69</td>\n",
              "      <td>NaN</td>\n",
              "      <td>NaN</td>\n",
              "      <td>False</td>\n",
              "      <td>B</td>\n",
              "      <td>118221</td>\n",
              "      <td>NaN</td>\n",
              "      <td>NaN</td>\n",
              "      <td>NaN</td>\n",
              "    </tr>\n",
              "    <tr>\n",
              "      <th>423321</th>\n",
              "      <td>45</td>\n",
              "      <td>2013-07-05</td>\n",
              "      <td>77.50</td>\n",
              "      <td>3.614</td>\n",
              "      <td>9090.48</td>\n",
              "      <td>2268.58</td>\n",
              "      <td>582.74</td>\n",
              "      <td>5797.47</td>\n",
              "      <td>1514.93</td>\n",
              "      <td>NaN</td>\n",
              "      <td>NaN</td>\n",
              "      <td>False</td>\n",
              "      <td>B</td>\n",
              "      <td>118221</td>\n",
              "      <td>NaN</td>\n",
              "      <td>NaN</td>\n",
              "      <td>NaN</td>\n",
              "    </tr>\n",
              "    <tr>\n",
              "      <th>423322</th>\n",
              "      <td>45</td>\n",
              "      <td>2013-07-12</td>\n",
              "      <td>79.37</td>\n",
              "      <td>3.614</td>\n",
              "      <td>3789.94</td>\n",
              "      <td>1827.31</td>\n",
              "      <td>85.72</td>\n",
              "      <td>744.84</td>\n",
              "      <td>2150.36</td>\n",
              "      <td>NaN</td>\n",
              "      <td>NaN</td>\n",
              "      <td>False</td>\n",
              "      <td>B</td>\n",
              "      <td>118221</td>\n",
              "      <td>NaN</td>\n",
              "      <td>NaN</td>\n",
              "      <td>NaN</td>\n",
              "    </tr>\n",
              "    <tr>\n",
              "      <th>423323</th>\n",
              "      <td>45</td>\n",
              "      <td>2013-07-19</td>\n",
              "      <td>82.84</td>\n",
              "      <td>3.737</td>\n",
              "      <td>2961.49</td>\n",
              "      <td>1047.07</td>\n",
              "      <td>204.19</td>\n",
              "      <td>363.00</td>\n",
              "      <td>1059.46</td>\n",
              "      <td>NaN</td>\n",
              "      <td>NaN</td>\n",
              "      <td>False</td>\n",
              "      <td>B</td>\n",
              "      <td>118221</td>\n",
              "      <td>NaN</td>\n",
              "      <td>NaN</td>\n",
              "      <td>NaN</td>\n",
              "    </tr>\n",
              "    <tr>\n",
              "      <th>423324</th>\n",
              "      <td>45</td>\n",
              "      <td>2013-07-26</td>\n",
              "      <td>76.06</td>\n",
              "      <td>3.804</td>\n",
              "      <td>212.02</td>\n",
              "      <td>851.73</td>\n",
              "      <td>2.06</td>\n",
              "      <td>10.88</td>\n",
              "      <td>1864.57</td>\n",
              "      <td>NaN</td>\n",
              "      <td>NaN</td>\n",
              "      <td>False</td>\n",
              "      <td>B</td>\n",
              "      <td>118221</td>\n",
              "      <td>NaN</td>\n",
              "      <td>NaN</td>\n",
              "      <td>NaN</td>\n",
              "    </tr>\n",
              "  </tbody>\n",
              "</table>\n",
              "<p>423325 rows × 17 columns</p>\n",
              "</div>"
            ],
            "text/plain": [
              "        Store        Date  Temperature  Fuel_Price  MarkDown1  MarkDown2  \\\n",
              "0           1  2010-02-05        42.31       2.572        NaN        NaN   \n",
              "1           1  2010-02-05        42.31       2.572        NaN        NaN   \n",
              "2           1  2010-02-05        42.31       2.572        NaN        NaN   \n",
              "3           1  2010-02-05        42.31       2.572        NaN        NaN   \n",
              "4           1  2010-02-05        42.31       2.572        NaN        NaN   \n",
              "...       ...         ...          ...         ...        ...        ...   \n",
              "423320     45  2013-06-28        76.05       3.639    4842.29     975.03   \n",
              "423321     45  2013-07-05        77.50       3.614    9090.48    2268.58   \n",
              "423322     45  2013-07-12        79.37       3.614    3789.94    1827.31   \n",
              "423323     45  2013-07-19        82.84       3.737    2961.49    1047.07   \n",
              "423324     45  2013-07-26        76.06       3.804     212.02     851.73   \n",
              "\n",
              "        MarkDown3  MarkDown4  MarkDown5         CPI  Unemployment  \\\n",
              "0             NaN        NaN        NaN  211.096358         8.106   \n",
              "1             NaN        NaN        NaN  211.096358         8.106   \n",
              "2             NaN        NaN        NaN  211.096358         8.106   \n",
              "3             NaN        NaN        NaN  211.096358         8.106   \n",
              "4             NaN        NaN        NaN  211.096358         8.106   \n",
              "...           ...        ...        ...         ...           ...   \n",
              "423320       3.00    2449.97    3169.69         NaN           NaN   \n",
              "423321     582.74    5797.47    1514.93         NaN           NaN   \n",
              "423322      85.72     744.84    2150.36         NaN           NaN   \n",
              "423323     204.19     363.00    1059.46         NaN           NaN   \n",
              "423324       2.06      10.88    1864.57         NaN           NaN   \n",
              "\n",
              "        IsHoliday_x Type    Size  Dept  Weekly_Sales IsHoliday_y  \n",
              "0             False    A  151315   1.0      24924.50       False  \n",
              "1             False    A  151315   2.0      50605.27       False  \n",
              "2             False    A  151315   3.0      13740.12       False  \n",
              "3             False    A  151315   4.0      39954.04       False  \n",
              "4             False    A  151315   5.0      32229.38       False  \n",
              "...             ...  ...     ...   ...           ...         ...  \n",
              "423320        False    B  118221   NaN           NaN         NaN  \n",
              "423321        False    B  118221   NaN           NaN         NaN  \n",
              "423322        False    B  118221   NaN           NaN         NaN  \n",
              "423323        False    B  118221   NaN           NaN         NaN  \n",
              "423324        False    B  118221   NaN           NaN         NaN  \n",
              "\n",
              "[423325 rows x 17 columns]"
            ]
          },
          "execution_count": 18,
          "metadata": {},
          "output_type": "execute_result"
        }
      ],
      "source": [
        "df_features = df_features.merge(df_stores, on=['Store'], how='left')\n",
        "df = df_features.merge(df_train, on=['Store', 'Date'], how='left')\n",
        "df "
      ]
    },
    {
      "cell_type": "markdown",
      "metadata": {},
      "source": [
        "### Explorando Dados"
      ]
    },
    {
      "cell_type": "code",
      "execution_count": 19,
      "metadata": {
        "colab": {
          "base_uri": "https://localhost:8080/"
        },
        "id": "-0NYemYDIK69",
        "outputId": "9138284c-953c-4431-a1ff-119e495003f9"
      },
      "outputs": [
        {
          "data": {
            "text/plain": [
              "(8190, 14)"
            ]
          },
          "execution_count": 19,
          "metadata": {},
          "output_type": "execute_result"
        }
      ],
      "source": [
        "df_features.shape"
      ]
    },
    {
      "cell_type": "code",
      "execution_count": 20,
      "metadata": {
        "colab": {
          "base_uri": "https://localhost:8080/"
        },
        "id": "gww-6fb4IA2j",
        "outputId": "39e0b37a-a2f5-460e-c7cf-a9a86423658e"
      },
      "outputs": [
        {
          "data": {
            "text/plain": [
              "Store            0.000000\n",
              "Date             0.000000\n",
              "Temperature      0.000000\n",
              "Fuel_Price       0.000000\n",
              "MarkDown1       50.769231\n",
              "MarkDown2       64.334554\n",
              "MarkDown3       55.885226\n",
              "MarkDown4       57.704518\n",
              "MarkDown5       50.549451\n",
              "CPI              7.142857\n",
              "Unemployment     7.142857\n",
              "IsHoliday        0.000000\n",
              "Type             0.000000\n",
              "Size             0.000000\n",
              "dtype: float64"
            ]
          },
          "execution_count": 20,
          "metadata": {},
          "output_type": "execute_result"
        }
      ],
      "source": [
        "(df_features.isnull().sum()/df_features.shape[0])*100"
      ]
    },
    {
      "cell_type": "code",
      "execution_count": 21,
      "metadata": {
        "colab": {
          "base_uri": "https://localhost:8080/",
          "height": 419
        },
        "id": "sNLhsNQZIbl8",
        "outputId": "c4e4c412-1811-4cac-b3af-ae9818b1da79"
      },
      "outputs": [
        {
          "data": {
            "text/html": [
              "<div>\n",
              "<style scoped>\n",
              "    .dataframe tbody tr th:only-of-type {\n",
              "        vertical-align: middle;\n",
              "    }\n",
              "\n",
              "    .dataframe tbody tr th {\n",
              "        vertical-align: top;\n",
              "    }\n",
              "\n",
              "    .dataframe thead th {\n",
              "        text-align: right;\n",
              "    }\n",
              "</style>\n",
              "<table border=\"1\" class=\"dataframe\">\n",
              "  <thead>\n",
              "    <tr style=\"text-align: right;\">\n",
              "      <th></th>\n",
              "      <th>Store</th>\n",
              "      <th>Date</th>\n",
              "      <th>Temperature</th>\n",
              "      <th>Fuel_Price</th>\n",
              "      <th>MarkDown1</th>\n",
              "      <th>MarkDown2</th>\n",
              "      <th>MarkDown3</th>\n",
              "      <th>MarkDown4</th>\n",
              "      <th>MarkDown5</th>\n",
              "      <th>CPI</th>\n",
              "      <th>Unemployment</th>\n",
              "      <th>IsHoliday</th>\n",
              "      <th>Type</th>\n",
              "      <th>Size</th>\n",
              "    </tr>\n",
              "  </thead>\n",
              "  <tbody>\n",
              "    <tr>\n",
              "      <th>169</th>\n",
              "      <td>1</td>\n",
              "      <td>2013-05-03</td>\n",
              "      <td>66.66</td>\n",
              "      <td>3.386</td>\n",
              "      <td>2298.63</td>\n",
              "      <td>2.00</td>\n",
              "      <td>129.90</td>\n",
              "      <td>55.46</td>\n",
              "      <td>1301.04</td>\n",
              "      <td>NaN</td>\n",
              "      <td>NaN</td>\n",
              "      <td>False</td>\n",
              "      <td>A</td>\n",
              "      <td>151315</td>\n",
              "    </tr>\n",
              "    <tr>\n",
              "      <th>170</th>\n",
              "      <td>1</td>\n",
              "      <td>2013-05-10</td>\n",
              "      <td>63.90</td>\n",
              "      <td>3.392</td>\n",
              "      <td>4624.61</td>\n",
              "      <td>83.88</td>\n",
              "      <td>42.38</td>\n",
              "      <td>1618.31</td>\n",
              "      <td>8144.90</td>\n",
              "      <td>NaN</td>\n",
              "      <td>NaN</td>\n",
              "      <td>False</td>\n",
              "      <td>A</td>\n",
              "      <td>151315</td>\n",
              "    </tr>\n",
              "    <tr>\n",
              "      <th>171</th>\n",
              "      <td>1</td>\n",
              "      <td>2013-05-17</td>\n",
              "      <td>69.53</td>\n",
              "      <td>3.454</td>\n",
              "      <td>16170.50</td>\n",
              "      <td>92.00</td>\n",
              "      <td>8.32</td>\n",
              "      <td>4127.24</td>\n",
              "      <td>6206.97</td>\n",
              "      <td>NaN</td>\n",
              "      <td>NaN</td>\n",
              "      <td>False</td>\n",
              "      <td>A</td>\n",
              "      <td>151315</td>\n",
              "    </tr>\n",
              "    <tr>\n",
              "      <th>172</th>\n",
              "      <td>1</td>\n",
              "      <td>2013-05-24</td>\n",
              "      <td>77.19</td>\n",
              "      <td>3.494</td>\n",
              "      <td>7959.89</td>\n",
              "      <td>178.00</td>\n",
              "      <td>1621.47</td>\n",
              "      <td>3152.57</td>\n",
              "      <td>2938.70</td>\n",
              "      <td>NaN</td>\n",
              "      <td>NaN</td>\n",
              "      <td>False</td>\n",
              "      <td>A</td>\n",
              "      <td>151315</td>\n",
              "    </tr>\n",
              "    <tr>\n",
              "      <th>173</th>\n",
              "      <td>1</td>\n",
              "      <td>2013-05-31</td>\n",
              "      <td>78.02</td>\n",
              "      <td>3.466</td>\n",
              "      <td>2369.77</td>\n",
              "      <td>142.45</td>\n",
              "      <td>475.35</td>\n",
              "      <td>45.55</td>\n",
              "      <td>2056.84</td>\n",
              "      <td>NaN</td>\n",
              "      <td>NaN</td>\n",
              "      <td>False</td>\n",
              "      <td>A</td>\n",
              "      <td>151315</td>\n",
              "    </tr>\n",
              "    <tr>\n",
              "      <th>...</th>\n",
              "      <td>...</td>\n",
              "      <td>...</td>\n",
              "      <td>...</td>\n",
              "      <td>...</td>\n",
              "      <td>...</td>\n",
              "      <td>...</td>\n",
              "      <td>...</td>\n",
              "      <td>...</td>\n",
              "      <td>...</td>\n",
              "      <td>...</td>\n",
              "      <td>...</td>\n",
              "      <td>...</td>\n",
              "      <td>...</td>\n",
              "      <td>...</td>\n",
              "    </tr>\n",
              "    <tr>\n",
              "      <th>8185</th>\n",
              "      <td>45</td>\n",
              "      <td>2013-06-28</td>\n",
              "      <td>76.05</td>\n",
              "      <td>3.639</td>\n",
              "      <td>4842.29</td>\n",
              "      <td>975.03</td>\n",
              "      <td>3.00</td>\n",
              "      <td>2449.97</td>\n",
              "      <td>3169.69</td>\n",
              "      <td>NaN</td>\n",
              "      <td>NaN</td>\n",
              "      <td>False</td>\n",
              "      <td>B</td>\n",
              "      <td>118221</td>\n",
              "    </tr>\n",
              "    <tr>\n",
              "      <th>8186</th>\n",
              "      <td>45</td>\n",
              "      <td>2013-07-05</td>\n",
              "      <td>77.50</td>\n",
              "      <td>3.614</td>\n",
              "      <td>9090.48</td>\n",
              "      <td>2268.58</td>\n",
              "      <td>582.74</td>\n",
              "      <td>5797.47</td>\n",
              "      <td>1514.93</td>\n",
              "      <td>NaN</td>\n",
              "      <td>NaN</td>\n",
              "      <td>False</td>\n",
              "      <td>B</td>\n",
              "      <td>118221</td>\n",
              "    </tr>\n",
              "    <tr>\n",
              "      <th>8187</th>\n",
              "      <td>45</td>\n",
              "      <td>2013-07-12</td>\n",
              "      <td>79.37</td>\n",
              "      <td>3.614</td>\n",
              "      <td>3789.94</td>\n",
              "      <td>1827.31</td>\n",
              "      <td>85.72</td>\n",
              "      <td>744.84</td>\n",
              "      <td>2150.36</td>\n",
              "      <td>NaN</td>\n",
              "      <td>NaN</td>\n",
              "      <td>False</td>\n",
              "      <td>B</td>\n",
              "      <td>118221</td>\n",
              "    </tr>\n",
              "    <tr>\n",
              "      <th>8188</th>\n",
              "      <td>45</td>\n",
              "      <td>2013-07-19</td>\n",
              "      <td>82.84</td>\n",
              "      <td>3.737</td>\n",
              "      <td>2961.49</td>\n",
              "      <td>1047.07</td>\n",
              "      <td>204.19</td>\n",
              "      <td>363.00</td>\n",
              "      <td>1059.46</td>\n",
              "      <td>NaN</td>\n",
              "      <td>NaN</td>\n",
              "      <td>False</td>\n",
              "      <td>B</td>\n",
              "      <td>118221</td>\n",
              "    </tr>\n",
              "    <tr>\n",
              "      <th>8189</th>\n",
              "      <td>45</td>\n",
              "      <td>2013-07-26</td>\n",
              "      <td>76.06</td>\n",
              "      <td>3.804</td>\n",
              "      <td>212.02</td>\n",
              "      <td>851.73</td>\n",
              "      <td>2.06</td>\n",
              "      <td>10.88</td>\n",
              "      <td>1864.57</td>\n",
              "      <td>NaN</td>\n",
              "      <td>NaN</td>\n",
              "      <td>False</td>\n",
              "      <td>B</td>\n",
              "      <td>118221</td>\n",
              "    </tr>\n",
              "  </tbody>\n",
              "</table>\n",
              "<p>585 rows × 14 columns</p>\n",
              "</div>"
            ],
            "text/plain": [
              "      Store        Date  Temperature  Fuel_Price  MarkDown1  MarkDown2  \\\n",
              "169       1  2013-05-03        66.66       3.386    2298.63       2.00   \n",
              "170       1  2013-05-10        63.90       3.392    4624.61      83.88   \n",
              "171       1  2013-05-17        69.53       3.454   16170.50      92.00   \n",
              "172       1  2013-05-24        77.19       3.494    7959.89     178.00   \n",
              "173       1  2013-05-31        78.02       3.466    2369.77     142.45   \n",
              "...     ...         ...          ...         ...        ...        ...   \n",
              "8185     45  2013-06-28        76.05       3.639    4842.29     975.03   \n",
              "8186     45  2013-07-05        77.50       3.614    9090.48    2268.58   \n",
              "8187     45  2013-07-12        79.37       3.614    3789.94    1827.31   \n",
              "8188     45  2013-07-19        82.84       3.737    2961.49    1047.07   \n",
              "8189     45  2013-07-26        76.06       3.804     212.02     851.73   \n",
              "\n",
              "      MarkDown3  MarkDown4  MarkDown5  CPI  Unemployment  IsHoliday Type  \\\n",
              "169      129.90      55.46    1301.04  NaN           NaN      False    A   \n",
              "170       42.38    1618.31    8144.90  NaN           NaN      False    A   \n",
              "171        8.32    4127.24    6206.97  NaN           NaN      False    A   \n",
              "172     1621.47    3152.57    2938.70  NaN           NaN      False    A   \n",
              "173      475.35      45.55    2056.84  NaN           NaN      False    A   \n",
              "...         ...        ...        ...  ...           ...        ...  ...   \n",
              "8185       3.00    2449.97    3169.69  NaN           NaN      False    B   \n",
              "8186     582.74    5797.47    1514.93  NaN           NaN      False    B   \n",
              "8187      85.72     744.84    2150.36  NaN           NaN      False    B   \n",
              "8188     204.19     363.00    1059.46  NaN           NaN      False    B   \n",
              "8189       2.06      10.88    1864.57  NaN           NaN      False    B   \n",
              "\n",
              "        Size  \n",
              "169   151315  \n",
              "170   151315  \n",
              "171   151315  \n",
              "172   151315  \n",
              "173   151315  \n",
              "...      ...  \n",
              "8185  118221  \n",
              "8186  118221  \n",
              "8187  118221  \n",
              "8188  118221  \n",
              "8189  118221  \n",
              "\n",
              "[585 rows x 14 columns]"
            ]
          },
          "execution_count": 21,
          "metadata": {},
          "output_type": "execute_result"
        }
      ],
      "source": [
        "df_features[df_features['Unemployment'].isnull()]"
      ]
    },
    {
      "cell_type": "code",
      "execution_count": 22,
      "metadata": {
        "id": "cV7g1J8CJ2hQ"
      },
      "outputs": [],
      "source": [
        "df = df.drop(columns=['IsHoliday_y'])"
      ]
    },
    {
      "cell_type": "code",
      "execution_count": 23,
      "metadata": {
        "colab": {
          "base_uri": "https://localhost:8080/",
          "height": 117
        },
        "id": "7itWfZN8KBmE",
        "outputId": "a28b961a-faaa-454b-95c6-bd8e22cea782"
      },
      "outputs": [
        {
          "data": {
            "text/html": [
              "<div>\n",
              "<style scoped>\n",
              "    .dataframe tbody tr th:only-of-type {\n",
              "        vertical-align: middle;\n",
              "    }\n",
              "\n",
              "    .dataframe tbody tr th {\n",
              "        vertical-align: top;\n",
              "    }\n",
              "\n",
              "    .dataframe thead th {\n",
              "        text-align: right;\n",
              "    }\n",
              "</style>\n",
              "<table border=\"1\" class=\"dataframe\">\n",
              "  <thead>\n",
              "    <tr style=\"text-align: right;\">\n",
              "      <th></th>\n",
              "      <th>Store</th>\n",
              "      <th>Date</th>\n",
              "      <th>Temperature</th>\n",
              "      <th>Fuel_Price</th>\n",
              "      <th>MarkDown1</th>\n",
              "      <th>MarkDown2</th>\n",
              "      <th>MarkDown3</th>\n",
              "      <th>MarkDown4</th>\n",
              "      <th>MarkDown5</th>\n",
              "      <th>CPI</th>\n",
              "      <th>Unemployment</th>\n",
              "      <th>IsHoliday_x</th>\n",
              "      <th>Type</th>\n",
              "      <th>Size</th>\n",
              "      <th>Dept</th>\n",
              "      <th>Weekly_Sales</th>\n",
              "    </tr>\n",
              "  </thead>\n",
              "  <tbody>\n",
              "    <tr>\n",
              "      <th>0</th>\n",
              "      <td>1</td>\n",
              "      <td>2010-02-05</td>\n",
              "      <td>42.31</td>\n",
              "      <td>2.572</td>\n",
              "      <td>NaN</td>\n",
              "      <td>NaN</td>\n",
              "      <td>NaN</td>\n",
              "      <td>NaN</td>\n",
              "      <td>NaN</td>\n",
              "      <td>211.096358</td>\n",
              "      <td>8.106</td>\n",
              "      <td>False</td>\n",
              "      <td>A</td>\n",
              "      <td>151315</td>\n",
              "      <td>1.0</td>\n",
              "      <td>24924.5</td>\n",
              "    </tr>\n",
              "  </tbody>\n",
              "</table>\n",
              "</div>"
            ],
            "text/plain": [
              "   Store        Date  Temperature  Fuel_Price  MarkDown1  MarkDown2  \\\n",
              "0      1  2010-02-05        42.31       2.572        NaN        NaN   \n",
              "\n",
              "   MarkDown3  MarkDown4  MarkDown5         CPI  Unemployment  IsHoliday_x  \\\n",
              "0        NaN        NaN        NaN  211.096358         8.106        False   \n",
              "\n",
              "  Type    Size  Dept  Weekly_Sales  \n",
              "0    A  151315   1.0       24924.5  "
            ]
          },
          "execution_count": 23,
          "metadata": {},
          "output_type": "execute_result"
        }
      ],
      "source": [
        "df.head(1)"
      ]
    },
    {
      "cell_type": "code",
      "execution_count": 24,
      "metadata": {
        "id": "P7DVTkClKGud"
      },
      "outputs": [],
      "source": [
        "df['MarkDown1'] = df['MarkDown1'].fillna(0)\n",
        "df['MarkDown2'] = df['MarkDown2'].fillna(0)\n",
        "df['MarkDown3'] = df['MarkDown3'].fillna(0)\n",
        "df['MarkDown4'] = df['MarkDown4'].fillna(0)\n",
        "df['MarkDown5'] = df['MarkDown5'].fillna(0)"
      ]
    },
    {
      "cell_type": "code",
      "execution_count": 25,
      "metadata": {
        "colab": {
          "base_uri": "https://localhost:8080/"
        },
        "id": "4cazRRkzKYDj",
        "outputId": "b2003bc9-95e1-493c-fe63-f186e252ec46"
      },
      "outputs": [
        {
          "data": {
            "text/plain": [
              "Store              0\n",
              "Date               0\n",
              "Temperature        0\n",
              "Fuel_Price         0\n",
              "MarkDown1          0\n",
              "MarkDown2          0\n",
              "MarkDown3          0\n",
              "MarkDown4          0\n",
              "MarkDown5          0\n",
              "CPI              585\n",
              "Unemployment     585\n",
              "IsHoliday_x        0\n",
              "Type               0\n",
              "Size               0\n",
              "Dept            1755\n",
              "Weekly_Sales    1755\n",
              "dtype: int64"
            ]
          },
          "execution_count": 25,
          "metadata": {},
          "output_type": "execute_result"
        }
      ],
      "source": [
        "df.isnull().sum()"
      ]
    },
    {
      "cell_type": "code",
      "execution_count": 26,
      "metadata": {
        "colab": {
          "base_uri": "https://localhost:8080/",
          "height": 286
        },
        "id": "Wd2ezRvlKk6-",
        "outputId": "625f75f2-13a3-4b3d-a6d9-5c4f84aa6d00"
      },
      "outputs": [
        {
          "data": {
            "text/html": [
              "<div>\n",
              "<style scoped>\n",
              "    .dataframe tbody tr th:only-of-type {\n",
              "        vertical-align: middle;\n",
              "    }\n",
              "\n",
              "    .dataframe tbody tr th {\n",
              "        vertical-align: top;\n",
              "    }\n",
              "\n",
              "    .dataframe thead th {\n",
              "        text-align: right;\n",
              "    }\n",
              "</style>\n",
              "<table border=\"1\" class=\"dataframe\">\n",
              "  <thead>\n",
              "    <tr style=\"text-align: right;\">\n",
              "      <th></th>\n",
              "      <th>Store</th>\n",
              "      <th>Temperature</th>\n",
              "      <th>Fuel_Price</th>\n",
              "      <th>MarkDown1</th>\n",
              "      <th>MarkDown2</th>\n",
              "      <th>MarkDown3</th>\n",
              "      <th>MarkDown4</th>\n",
              "      <th>MarkDown5</th>\n",
              "      <th>CPI</th>\n",
              "      <th>Unemployment</th>\n",
              "      <th>Size</th>\n",
              "      <th>Dept</th>\n",
              "      <th>Weekly_Sales</th>\n",
              "    </tr>\n",
              "  </thead>\n",
              "  <tbody>\n",
              "    <tr>\n",
              "      <th>count</th>\n",
              "      <td>423325.000000</td>\n",
              "      <td>423325.000000</td>\n",
              "      <td>423325.000000</td>\n",
              "      <td>423325.000000</td>\n",
              "      <td>423325.000000</td>\n",
              "      <td>423325.000000</td>\n",
              "      <td>423325.000000</td>\n",
              "      <td>423325.000000</td>\n",
              "      <td>422740.000000</td>\n",
              "      <td>422740.000000</td>\n",
              "      <td>423325.000000</td>\n",
              "      <td>421570.000000</td>\n",
              "      <td>421570.000000</td>\n",
              "    </tr>\n",
              "    <tr>\n",
              "      <th>mean</th>\n",
              "      <td>22.203860</td>\n",
              "      <td>60.067140</td>\n",
              "      <td>3.361933</td>\n",
              "      <td>2609.393788</td>\n",
              "      <td>887.229665</td>\n",
              "      <td>474.645154</td>\n",
              "      <td>1090.251506</td>\n",
              "      <td>1671.367162</td>\n",
              "      <td>171.218863</td>\n",
              "      <td>7.957296</td>\n",
              "      <td>136701.215794</td>\n",
              "      <td>44.260317</td>\n",
              "      <td>15981.258123</td>\n",
              "    </tr>\n",
              "    <tr>\n",
              "      <th>std</th>\n",
              "      <td>12.786244</td>\n",
              "      <td>18.452599</td>\n",
              "      <td>0.458038</td>\n",
              "      <td>6084.868435</td>\n",
              "      <td>5096.047794</td>\n",
              "      <td>5578.580578</td>\n",
              "      <td>3914.158379</td>\n",
              "      <td>4370.213498</td>\n",
              "      <td>39.167088</td>\n",
              "      <td>1.863433</td>\n",
              "      <td>60990.977801</td>\n",
              "      <td>30.492054</td>\n",
              "      <td>22711.183519</td>\n",
              "    </tr>\n",
              "    <tr>\n",
              "      <th>min</th>\n",
              "      <td>1.000000</td>\n",
              "      <td>-7.290000</td>\n",
              "      <td>2.472000</td>\n",
              "      <td>-2781.450000</td>\n",
              "      <td>-265.760000</td>\n",
              "      <td>-179.260000</td>\n",
              "      <td>0.000000</td>\n",
              "      <td>-185.170000</td>\n",
              "      <td>126.064000</td>\n",
              "      <td>3.684000</td>\n",
              "      <td>34875.000000</td>\n",
              "      <td>1.000000</td>\n",
              "      <td>-4988.940000</td>\n",
              "    </tr>\n",
              "    <tr>\n",
              "      <th>50%</th>\n",
              "      <td>22.000000</td>\n",
              "      <td>62.070000</td>\n",
              "      <td>3.452000</td>\n",
              "      <td>0.000000</td>\n",
              "      <td>0.000000</td>\n",
              "      <td>0.000000</td>\n",
              "      <td>0.000000</td>\n",
              "      <td>0.000000</td>\n",
              "      <td>182.350989</td>\n",
              "      <td>7.866000</td>\n",
              "      <td>140167.000000</td>\n",
              "      <td>37.000000</td>\n",
              "      <td>7612.030000</td>\n",
              "    </tr>\n",
              "    <tr>\n",
              "      <th>99%</th>\n",
              "      <td>45.000000</td>\n",
              "      <td>92.810000</td>\n",
              "      <td>4.202000</td>\n",
              "      <td>28177.290000</td>\n",
              "      <td>21909.930000</td>\n",
              "      <td>2100.010000</td>\n",
              "      <td>16864.330000</td>\n",
              "      <td>15590.530000</td>\n",
              "      <td>225.478263</td>\n",
              "      <td>14.180000</td>\n",
              "      <td>219622.000000</td>\n",
              "      <td>98.000000</td>\n",
              "      <td>106479.586000</td>\n",
              "    </tr>\n",
              "    <tr>\n",
              "      <th>max</th>\n",
              "      <td>45.000000</td>\n",
              "      <td>101.950000</td>\n",
              "      <td>4.468000</td>\n",
              "      <td>103184.980000</td>\n",
              "      <td>104519.540000</td>\n",
              "      <td>149483.310000</td>\n",
              "      <td>67474.850000</td>\n",
              "      <td>771448.100000</td>\n",
              "      <td>228.976456</td>\n",
              "      <td>14.313000</td>\n",
              "      <td>219622.000000</td>\n",
              "      <td>99.000000</td>\n",
              "      <td>693099.360000</td>\n",
              "    </tr>\n",
              "  </tbody>\n",
              "</table>\n",
              "</div>"
            ],
            "text/plain": [
              "               Store    Temperature     Fuel_Price      MarkDown1  \\\n",
              "count  423325.000000  423325.000000  423325.000000  423325.000000   \n",
              "mean       22.203860      60.067140       3.361933    2609.393788   \n",
              "std        12.786244      18.452599       0.458038    6084.868435   \n",
              "min         1.000000      -7.290000       2.472000   -2781.450000   \n",
              "50%        22.000000      62.070000       3.452000       0.000000   \n",
              "99%        45.000000      92.810000       4.202000   28177.290000   \n",
              "max        45.000000     101.950000       4.468000  103184.980000   \n",
              "\n",
              "           MarkDown2      MarkDown3      MarkDown4      MarkDown5  \\\n",
              "count  423325.000000  423325.000000  423325.000000  423325.000000   \n",
              "mean      887.229665     474.645154    1090.251506    1671.367162   \n",
              "std      5096.047794    5578.580578    3914.158379    4370.213498   \n",
              "min      -265.760000    -179.260000       0.000000    -185.170000   \n",
              "50%         0.000000       0.000000       0.000000       0.000000   \n",
              "99%     21909.930000    2100.010000   16864.330000   15590.530000   \n",
              "max    104519.540000  149483.310000   67474.850000  771448.100000   \n",
              "\n",
              "                 CPI   Unemployment           Size           Dept  \\\n",
              "count  422740.000000  422740.000000  423325.000000  421570.000000   \n",
              "mean      171.218863       7.957296  136701.215794      44.260317   \n",
              "std        39.167088       1.863433   60990.977801      30.492054   \n",
              "min       126.064000       3.684000   34875.000000       1.000000   \n",
              "50%       182.350989       7.866000  140167.000000      37.000000   \n",
              "99%       225.478263      14.180000  219622.000000      98.000000   \n",
              "max       228.976456      14.313000  219622.000000      99.000000   \n",
              "\n",
              "        Weekly_Sales  \n",
              "count  421570.000000  \n",
              "mean    15981.258123  \n",
              "std     22711.183519  \n",
              "min     -4988.940000  \n",
              "50%      7612.030000  \n",
              "99%    106479.586000  \n",
              "max    693099.360000  "
            ]
          },
          "execution_count": 26,
          "metadata": {},
          "output_type": "execute_result"
        }
      ],
      "source": [
        "df.describe(percentiles=[0.99])"
      ]
    },
    {
      "cell_type": "code",
      "execution_count": 27,
      "metadata": {
        "id": "M00p7H6LLHb5"
      },
      "outputs": [],
      "source": [
        "df['Date'] = pd.to_datetime(df['Date'])"
      ]
    },
    {
      "cell_type": "code",
      "execution_count": 28,
      "metadata": {
        "id": "rT7M04ItLt2i"
      },
      "outputs": [],
      "source": [
        "df['year'] = pd.DatetimeIndex(df['Date']).year\n",
        "df['month'] = pd.DatetimeIndex(df['Date']).month\n",
        "df['day'] = pd.DatetimeIndex(df['Date']).day"
      ]
    },
    {
      "cell_type": "code",
      "execution_count": 29,
      "metadata": {
        "colab": {
          "base_uri": "https://localhost:8080/",
          "height": 165
        },
        "id": "M0sp0a65MkPi",
        "outputId": "d1453749-ecdf-452f-c147-271198a769b3"
      },
      "outputs": [
        {
          "data": {
            "text/html": [
              "<div>\n",
              "<style scoped>\n",
              "    .dataframe tbody tr th:only-of-type {\n",
              "        vertical-align: middle;\n",
              "    }\n",
              "\n",
              "    .dataframe tbody tr th {\n",
              "        vertical-align: top;\n",
              "    }\n",
              "\n",
              "    .dataframe thead th {\n",
              "        text-align: right;\n",
              "    }\n",
              "</style>\n",
              "<table border=\"1\" class=\"dataframe\">\n",
              "  <thead>\n",
              "    <tr style=\"text-align: right;\">\n",
              "      <th></th>\n",
              "      <th>Store</th>\n",
              "      <th>Date</th>\n",
              "      <th>Temperature</th>\n",
              "      <th>Fuel_Price</th>\n",
              "      <th>MarkDown1</th>\n",
              "      <th>MarkDown2</th>\n",
              "      <th>MarkDown3</th>\n",
              "      <th>MarkDown4</th>\n",
              "      <th>MarkDown5</th>\n",
              "      <th>CPI</th>\n",
              "      <th>Unemployment</th>\n",
              "      <th>IsHoliday_x</th>\n",
              "      <th>Type</th>\n",
              "      <th>Size</th>\n",
              "      <th>Dept</th>\n",
              "      <th>Weekly_Sales</th>\n",
              "      <th>year</th>\n",
              "      <th>month</th>\n",
              "      <th>day</th>\n",
              "    </tr>\n",
              "  </thead>\n",
              "  <tbody>\n",
              "    <tr>\n",
              "      <th>0</th>\n",
              "      <td>1</td>\n",
              "      <td>2010-02-05</td>\n",
              "      <td>42.31</td>\n",
              "      <td>2.572</td>\n",
              "      <td>0.0</td>\n",
              "      <td>0.0</td>\n",
              "      <td>0.0</td>\n",
              "      <td>0.0</td>\n",
              "      <td>0.0</td>\n",
              "      <td>211.096358</td>\n",
              "      <td>8.106</td>\n",
              "      <td>False</td>\n",
              "      <td>A</td>\n",
              "      <td>151315</td>\n",
              "      <td>1.0</td>\n",
              "      <td>24924.50</td>\n",
              "      <td>2010</td>\n",
              "      <td>2</td>\n",
              "      <td>5</td>\n",
              "    </tr>\n",
              "    <tr>\n",
              "      <th>1</th>\n",
              "      <td>1</td>\n",
              "      <td>2010-02-05</td>\n",
              "      <td>42.31</td>\n",
              "      <td>2.572</td>\n",
              "      <td>0.0</td>\n",
              "      <td>0.0</td>\n",
              "      <td>0.0</td>\n",
              "      <td>0.0</td>\n",
              "      <td>0.0</td>\n",
              "      <td>211.096358</td>\n",
              "      <td>8.106</td>\n",
              "      <td>False</td>\n",
              "      <td>A</td>\n",
              "      <td>151315</td>\n",
              "      <td>2.0</td>\n",
              "      <td>50605.27</td>\n",
              "      <td>2010</td>\n",
              "      <td>2</td>\n",
              "      <td>5</td>\n",
              "    </tr>\n",
              "  </tbody>\n",
              "</table>\n",
              "</div>"
            ],
            "text/plain": [
              "   Store       Date  Temperature  Fuel_Price  MarkDown1  MarkDown2  MarkDown3  \\\n",
              "0      1 2010-02-05        42.31       2.572        0.0        0.0        0.0   \n",
              "1      1 2010-02-05        42.31       2.572        0.0        0.0        0.0   \n",
              "\n",
              "   MarkDown4  MarkDown5         CPI  Unemployment  IsHoliday_x Type    Size  \\\n",
              "0        0.0        0.0  211.096358         8.106        False    A  151315   \n",
              "1        0.0        0.0  211.096358         8.106        False    A  151315   \n",
              "\n",
              "   Dept  Weekly_Sales  year  month  day  \n",
              "0   1.0      24924.50  2010      2    5  \n",
              "1   2.0      50605.27  2010      2    5  "
            ]
          },
          "execution_count": 29,
          "metadata": {},
          "output_type": "execute_result"
        }
      ],
      "source": [
        "df.head(2)"
      ]
    },
    {
      "cell_type": "code",
      "execution_count": 30,
      "metadata": {
        "colab": {
          "base_uri": "https://localhost:8080/",
          "height": 296
        },
        "id": "ryrNnYrgMuiz",
        "outputId": "3f2eedbd-d1d6-4b3a-90a8-76266ca89188"
      },
      "outputs": [
        {
          "data": {
            "text/plain": [
              "<AxesSubplot:xlabel='month', ylabel='Weekly_Sales'>"
            ]
          },
          "execution_count": 30,
          "metadata": {},
          "output_type": "execute_result"
        },
        {
          "data": {
            "image/png": "[encoded data removed]",
            "text/plain": [
              "<Figure size 576x396 with 1 Axes>"
            ]
          },
          "metadata": {},
          "output_type": "display_data"
        }
      ],
      "source": [
        "sns.barplot(x= df['month'], y=df['Weekly_Sales'])"
      ]
    },
    {
      "cell_type": "code",
      "execution_count": 31,
      "metadata": {
        "colab": {
          "base_uri": "https://localhost:8080/",
          "height": 609
        },
        "id": "32yZHP0GNkg6",
        "outputId": "cb0a12ea-f774-44fb-ace3-6a0a104d4d1f"
      },
      "outputs": [
        {
          "data": {
            "text/html": [
              "<div>\n",
              "<style scoped>\n",
              "    .dataframe tbody tr th:only-of-type {\n",
              "        vertical-align: middle;\n",
              "    }\n",
              "\n",
              "    .dataframe tbody tr th {\n",
              "        vertical-align: top;\n",
              "    }\n",
              "\n",
              "    .dataframe thead th {\n",
              "        text-align: right;\n",
              "    }\n",
              "</style>\n",
              "<table border=\"1\" class=\"dataframe\">\n",
              "  <thead>\n",
              "    <tr style=\"text-align: right;\">\n",
              "      <th></th>\n",
              "      <th>Store</th>\n",
              "      <th>Date</th>\n",
              "      <th>Temperature</th>\n",
              "      <th>Fuel_Price</th>\n",
              "      <th>MarkDown1</th>\n",
              "      <th>MarkDown2</th>\n",
              "      <th>MarkDown3</th>\n",
              "      <th>MarkDown4</th>\n",
              "      <th>MarkDown5</th>\n",
              "      <th>CPI</th>\n",
              "      <th>Unemployment</th>\n",
              "      <th>IsHoliday_x</th>\n",
              "      <th>Type</th>\n",
              "      <th>Size</th>\n",
              "      <th>Dept</th>\n",
              "      <th>Weekly_Sales</th>\n",
              "      <th>year</th>\n",
              "      <th>month</th>\n",
              "      <th>day</th>\n",
              "    </tr>\n",
              "  </thead>\n",
              "  <tbody>\n",
              "    <tr>\n",
              "      <th>423324</th>\n",
              "      <td>45</td>\n",
              "      <td>2013-07-26</td>\n",
              "      <td>76.06</td>\n",
              "      <td>3.804</td>\n",
              "      <td>212.02</td>\n",
              "      <td>851.73</td>\n",
              "      <td>2.06</td>\n",
              "      <td>10.88</td>\n",
              "      <td>1864.57</td>\n",
              "      <td>NaN</td>\n",
              "      <td>NaN</td>\n",
              "      <td>False</td>\n",
              "      <td>B</td>\n",
              "      <td>118221</td>\n",
              "      <td>NaN</td>\n",
              "      <td>NaN</td>\n",
              "      <td>2013</td>\n",
              "      <td>7</td>\n",
              "      <td>26</td>\n",
              "    </tr>\n",
              "    <tr>\n",
              "      <th>247869</th>\n",
              "      <td>25</td>\n",
              "      <td>2013-06-14</td>\n",
              "      <td>65.58</td>\n",
              "      <td>3.632</td>\n",
              "      <td>9439.14</td>\n",
              "      <td>890.40</td>\n",
              "      <td>269.41</td>\n",
              "      <td>3889.51</td>\n",
              "      <td>2657.01</td>\n",
              "      <td>NaN</td>\n",
              "      <td>NaN</td>\n",
              "      <td>False</td>\n",
              "      <td>B</td>\n",
              "      <td>128107</td>\n",
              "      <td>NaN</td>\n",
              "      <td>NaN</td>\n",
              "      <td>2013</td>\n",
              "      <td>6</td>\n",
              "      <td>14</td>\n",
              "    </tr>\n",
              "    <tr>\n",
              "      <th>247857</th>\n",
              "      <td>25</td>\n",
              "      <td>2013-03-22</td>\n",
              "      <td>28.89</td>\n",
              "      <td>3.800</td>\n",
              "      <td>5232.03</td>\n",
              "      <td>0.00</td>\n",
              "      <td>510.00</td>\n",
              "      <td>148.52</td>\n",
              "      <td>732.94</td>\n",
              "      <td>217.491942</td>\n",
              "      <td>7.439</td>\n",
              "      <td>False</td>\n",
              "      <td>B</td>\n",
              "      <td>128107</td>\n",
              "      <td>NaN</td>\n",
              "      <td>NaN</td>\n",
              "      <td>2013</td>\n",
              "      <td>3</td>\n",
              "      <td>22</td>\n",
              "    </tr>\n",
              "    <tr>\n",
              "      <th>247858</th>\n",
              "      <td>25</td>\n",
              "      <td>2013-03-29</td>\n",
              "      <td>34.08</td>\n",
              "      <td>3.784</td>\n",
              "      <td>8101.96</td>\n",
              "      <td>0.00</td>\n",
              "      <td>369.83</td>\n",
              "      <td>825.69</td>\n",
              "      <td>1389.48</td>\n",
              "      <td>217.575393</td>\n",
              "      <td>7.439</td>\n",
              "      <td>False</td>\n",
              "      <td>B</td>\n",
              "      <td>128107</td>\n",
              "      <td>NaN</td>\n",
              "      <td>NaN</td>\n",
              "      <td>2013</td>\n",
              "      <td>3</td>\n",
              "      <td>29</td>\n",
              "    </tr>\n",
              "    <tr>\n",
              "      <th>247859</th>\n",
              "      <td>25</td>\n",
              "      <td>2013-04-05</td>\n",
              "      <td>36.75</td>\n",
              "      <td>3.763</td>\n",
              "      <td>13525.91</td>\n",
              "      <td>3245.99</td>\n",
              "      <td>165.01</td>\n",
              "      <td>1109.08</td>\n",
              "      <td>1475.49</td>\n",
              "      <td>217.658844</td>\n",
              "      <td>7.191</td>\n",
              "      <td>False</td>\n",
              "      <td>B</td>\n",
              "      <td>128107</td>\n",
              "      <td>NaN</td>\n",
              "      <td>NaN</td>\n",
              "      <td>2013</td>\n",
              "      <td>4</td>\n",
              "      <td>5</td>\n",
              "    </tr>\n",
              "    <tr>\n",
              "      <th>...</th>\n",
              "      <td>...</td>\n",
              "      <td>...</td>\n",
              "      <td>...</td>\n",
              "      <td>...</td>\n",
              "      <td>...</td>\n",
              "      <td>...</td>\n",
              "      <td>...</td>\n",
              "      <td>...</td>\n",
              "      <td>...</td>\n",
              "      <td>...</td>\n",
              "      <td>...</td>\n",
              "      <td>...</td>\n",
              "      <td>...</td>\n",
              "      <td>...</td>\n",
              "      <td>...</td>\n",
              "      <td>...</td>\n",
              "      <td>...</td>\n",
              "      <td>...</td>\n",
              "      <td>...</td>\n",
              "    </tr>\n",
              "    <tr>\n",
              "      <th>295965</th>\n",
              "      <td>31</td>\n",
              "      <td>2010-05-21</td>\n",
              "      <td>74.24</td>\n",
              "      <td>2.826</td>\n",
              "      <td>0.00</td>\n",
              "      <td>0.00</td>\n",
              "      <td>0.00</td>\n",
              "      <td>0.00</td>\n",
              "      <td>0.00</td>\n",
              "      <td>210.276844</td>\n",
              "      <td>8.200</td>\n",
              "      <td>False</td>\n",
              "      <td>A</td>\n",
              "      <td>203750</td>\n",
              "      <td>31.0</td>\n",
              "      <td>1556.50</td>\n",
              "      <td>2010</td>\n",
              "      <td>5</td>\n",
              "      <td>21</td>\n",
              "    </tr>\n",
              "    <tr>\n",
              "      <th>295966</th>\n",
              "      <td>31</td>\n",
              "      <td>2010-05-21</td>\n",
              "      <td>74.24</td>\n",
              "      <td>2.826</td>\n",
              "      <td>0.00</td>\n",
              "      <td>0.00</td>\n",
              "      <td>0.00</td>\n",
              "      <td>0.00</td>\n",
              "      <td>0.00</td>\n",
              "      <td>210.276844</td>\n",
              "      <td>8.200</td>\n",
              "      <td>False</td>\n",
              "      <td>A</td>\n",
              "      <td>203750</td>\n",
              "      <td>32.0</td>\n",
              "      <td>6779.62</td>\n",
              "      <td>2010</td>\n",
              "      <td>5</td>\n",
              "      <td>21</td>\n",
              "    </tr>\n",
              "    <tr>\n",
              "      <th>295967</th>\n",
              "      <td>31</td>\n",
              "      <td>2010-05-21</td>\n",
              "      <td>74.24</td>\n",
              "      <td>2.826</td>\n",
              "      <td>0.00</td>\n",
              "      <td>0.00</td>\n",
              "      <td>0.00</td>\n",
              "      <td>0.00</td>\n",
              "      <td>0.00</td>\n",
              "      <td>210.276844</td>\n",
              "      <td>8.200</td>\n",
              "      <td>False</td>\n",
              "      <td>A</td>\n",
              "      <td>203750</td>\n",
              "      <td>33.0</td>\n",
              "      <td>4886.16</td>\n",
              "      <td>2010</td>\n",
              "      <td>5</td>\n",
              "      <td>21</td>\n",
              "    </tr>\n",
              "    <tr>\n",
              "      <th>295968</th>\n",
              "      <td>31</td>\n",
              "      <td>2010-05-21</td>\n",
              "      <td>74.24</td>\n",
              "      <td>2.826</td>\n",
              "      <td>0.00</td>\n",
              "      <td>0.00</td>\n",
              "      <td>0.00</td>\n",
              "      <td>0.00</td>\n",
              "      <td>0.00</td>\n",
              "      <td>210.276844</td>\n",
              "      <td>8.200</td>\n",
              "      <td>False</td>\n",
              "      <td>A</td>\n",
              "      <td>203750</td>\n",
              "      <td>34.0</td>\n",
              "      <td>18445.32</td>\n",
              "      <td>2010</td>\n",
              "      <td>5</td>\n",
              "      <td>21</td>\n",
              "    </tr>\n",
              "    <tr>\n",
              "      <th>0</th>\n",
              "      <td>1</td>\n",
              "      <td>2010-02-05</td>\n",
              "      <td>42.31</td>\n",
              "      <td>2.572</td>\n",
              "      <td>0.00</td>\n",
              "      <td>0.00</td>\n",
              "      <td>0.00</td>\n",
              "      <td>0.00</td>\n",
              "      <td>0.00</td>\n",
              "      <td>211.096358</td>\n",
              "      <td>8.106</td>\n",
              "      <td>False</td>\n",
              "      <td>A</td>\n",
              "      <td>151315</td>\n",
              "      <td>1.0</td>\n",
              "      <td>24924.50</td>\n",
              "      <td>2010</td>\n",
              "      <td>2</td>\n",
              "      <td>5</td>\n",
              "    </tr>\n",
              "  </tbody>\n",
              "</table>\n",
              "<p>423325 rows × 19 columns</p>\n",
              "</div>"
            ],
            "text/plain": [
              "        Store       Date  Temperature  Fuel_Price  MarkDown1  MarkDown2  \\\n",
              "423324     45 2013-07-26        76.06       3.804     212.02     851.73   \n",
              "247869     25 2013-06-14        65.58       3.632    9439.14     890.40   \n",
              "247857     25 2013-03-22        28.89       3.800    5232.03       0.00   \n",
              "247858     25 2013-03-29        34.08       3.784    8101.96       0.00   \n",
              "247859     25 2013-04-05        36.75       3.763   13525.91    3245.99   \n",
              "...       ...        ...          ...         ...        ...        ...   \n",
              "295965     31 2010-05-21        74.24       2.826       0.00       0.00   \n",
              "295966     31 2010-05-21        74.24       2.826       0.00       0.00   \n",
              "295967     31 2010-05-21        74.24       2.826       0.00       0.00   \n",
              "295968     31 2010-05-21        74.24       2.826       0.00       0.00   \n",
              "0           1 2010-02-05        42.31       2.572       0.00       0.00   \n",
              "\n",
              "        MarkDown3  MarkDown4  MarkDown5         CPI  Unemployment  \\\n",
              "423324       2.06      10.88    1864.57         NaN           NaN   \n",
              "247869     269.41    3889.51    2657.01         NaN           NaN   \n",
              "247857     510.00     148.52     732.94  217.491942         7.439   \n",
              "247858     369.83     825.69    1389.48  217.575393         7.439   \n",
              "247859     165.01    1109.08    1475.49  217.658844         7.191   \n",
              "...           ...        ...        ...         ...           ...   \n",
              "295965       0.00       0.00       0.00  210.276844         8.200   \n",
              "295966       0.00       0.00       0.00  210.276844         8.200   \n",
              "295967       0.00       0.00       0.00  210.276844         8.200   \n",
              "295968       0.00       0.00       0.00  210.276844         8.200   \n",
              "0            0.00       0.00       0.00  211.096358         8.106   \n",
              "\n",
              "        IsHoliday_x Type    Size  Dept  Weekly_Sales  year  month  day  \n",
              "423324        False    B  118221   NaN           NaN  2013      7   26  \n",
              "247869        False    B  128107   NaN           NaN  2013      6   14  \n",
              "247857        False    B  128107   NaN           NaN  2013      3   22  \n",
              "247858        False    B  128107   NaN           NaN  2013      3   29  \n",
              "247859        False    B  128107   NaN           NaN  2013      4    5  \n",
              "...             ...  ...     ...   ...           ...   ...    ...  ...  \n",
              "295965        False    A  203750  31.0       1556.50  2010      5   21  \n",
              "295966        False    A  203750  32.0       6779.62  2010      5   21  \n",
              "295967        False    A  203750  33.0       4886.16  2010      5   21  \n",
              "295968        False    A  203750  34.0      18445.32  2010      5   21  \n",
              "0             False    A  151315   1.0      24924.50  2010      2    5  \n",
              "\n",
              "[423325 rows x 19 columns]"
            ]
          },
          "execution_count": 31,
          "metadata": {},
          "output_type": "execute_result"
        }
      ],
      "source": [
        "df.sort_values('year', ascending=False)"
      ]
    },
    {
      "cell_type": "code",
      "execution_count": 32,
      "metadata": {
        "id": "Uex8ltohPfjj"
      },
      "outputs": [],
      "source": [
        "dfa = df.dropna(subset=['Weekly_Sales'])"
      ]
    },
    {
      "cell_type": "code",
      "execution_count": 33,
      "metadata": {
        "colab": {
          "base_uri": "https://localhost:8080/"
        },
        "id": "kuWQGl4IRun6",
        "outputId": "51375a22-d228-42db-abfe-4ce35b9bb7cf"
      },
      "outputs": [
        {
          "data": {
            "text/plain": [
              "Store           0\n",
              "Date            0\n",
              "Temperature     0\n",
              "Fuel_Price      0\n",
              "MarkDown1       0\n",
              "MarkDown2       0\n",
              "MarkDown3       0\n",
              "MarkDown4       0\n",
              "MarkDown5       0\n",
              "CPI             0\n",
              "Unemployment    0\n",
              "IsHoliday_x     0\n",
              "Type            0\n",
              "Size            0\n",
              "Dept            0\n",
              "Weekly_Sales    0\n",
              "year            0\n",
              "month           0\n",
              "day             0\n",
              "dtype: int64"
            ]
          },
          "execution_count": 33,
          "metadata": {},
          "output_type": "execute_result"
        }
      ],
      "source": [
        "dfa.isnull().sum()"
      ]
    },
    {
      "cell_type": "code",
      "execution_count": 34,
      "metadata": {
        "colab": {
          "base_uri": "https://localhost:8080/",
          "height": 296
        },
        "id": "MDhFcP2bR8Ww",
        "outputId": "3baeb29e-7f87-46f0-c115-b53e0eb82515"
      },
      "outputs": [
        {
          "data": {
            "text/plain": [
              "<AxesSubplot:xlabel='year', ylabel='Weekly_Sales'>"
            ]
          },
          "execution_count": 34,
          "metadata": {},
          "output_type": "execute_result"
        },
        {
          "data": {
            "image/png": "[encoded data removed]",
            "text/plain": [
              "<Figure size 576x396 with 1 Axes>"
            ]
          },
          "metadata": {},
          "output_type": "display_data"
        }
      ],
      "source": [
        "sns.barplot(x= dfa['year'], y=dfa['Weekly_Sales'])"
      ]
    },
    {
      "cell_type": "code",
      "execution_count": 35,
      "metadata": {
        "colab": {
          "base_uri": "https://localhost:8080/"
        },
        "id": "FfgOzycVSG6f",
        "outputId": "0cb128e6-6dd2-41ed-ad6f-b02d20b3c00b"
      },
      "outputs": [
        {
          "data": {
            "text/plain": [
              "A    215478\n",
              "B    163495\n",
              "C     42597\n",
              "Name: Type, dtype: int64"
            ]
          },
          "execution_count": 35,
          "metadata": {},
          "output_type": "execute_result"
        }
      ],
      "source": [
        "dfa['Type'].value_counts()"
      ]
    },
    {
      "cell_type": "code",
      "execution_count": 36,
      "metadata": {
        "id": "pFtEjzvFS479"
      },
      "outputs": [],
      "source": [
        "dfa = pd.get_dummies(dfa)"
      ]
    },
    {
      "cell_type": "code",
      "execution_count": 37,
      "metadata": {
        "colab": {
          "base_uri": "https://localhost:8080/"
        },
        "id": "tUn62eTUTvOi",
        "outputId": "33ecf682-bd56-4333-959e-6124229d3d30"
      },
      "outputs": [
        {
          "data": {
            "text/plain": [
              "Index(['Store', 'Date', 'Temperature', 'Fuel_Price', 'MarkDown1', 'MarkDown2',\n",
              "       'MarkDown3', 'MarkDown4', 'MarkDown5', 'CPI', 'Unemployment',\n",
              "       'IsHoliday_x', 'Size', 'Dept', 'Weekly_Sales', 'year', 'month', 'day',\n",
              "       'Type_A', 'Type_B', 'Type_C'],\n",
              "      dtype='object')"
            ]
          },
          "execution_count": 37,
          "metadata": {},
          "output_type": "execute_result"
        }
      ],
      "source": [
        "dfa.columns"
      ]
    },
    {
      "cell_type": "code",
      "execution_count": 38,
      "metadata": {
        "colab": {
          "base_uri": "https://localhost:8080/",
          "height": 549
        },
        "id": "1x2hgpnoS85G",
        "outputId": "5efb4e3e-7239-43d6-9baa-cea48924439c"
      },
      "outputs": [
        {
          "data": {
            "text/html": [
              "<div>\n",
              "<style scoped>\n",
              "    .dataframe tbody tr th:only-of-type {\n",
              "        vertical-align: middle;\n",
              "    }\n",
              "\n",
              "    .dataframe tbody tr th {\n",
              "        vertical-align: top;\n",
              "    }\n",
              "\n",
              "    .dataframe thead th {\n",
              "        text-align: right;\n",
              "    }\n",
              "</style>\n",
              "<table border=\"1\" class=\"dataframe\">\n",
              "  <thead>\n",
              "    <tr style=\"text-align: right;\">\n",
              "      <th></th>\n",
              "      <th>Store</th>\n",
              "      <th>Date</th>\n",
              "      <th>Temperature</th>\n",
              "      <th>Fuel_Price</th>\n",
              "      <th>MarkDown1</th>\n",
              "      <th>MarkDown2</th>\n",
              "      <th>MarkDown3</th>\n",
              "      <th>MarkDown4</th>\n",
              "      <th>MarkDown5</th>\n",
              "      <th>CPI</th>\n",
              "      <th>...</th>\n",
              "      <th>IsHoliday_x</th>\n",
              "      <th>Size</th>\n",
              "      <th>Dept</th>\n",
              "      <th>Weekly_Sales</th>\n",
              "      <th>year</th>\n",
              "      <th>month</th>\n",
              "      <th>day</th>\n",
              "      <th>Type_A</th>\n",
              "      <th>Type_B</th>\n",
              "      <th>Type_C</th>\n",
              "    </tr>\n",
              "  </thead>\n",
              "  <tbody>\n",
              "    <tr>\n",
              "      <th>0</th>\n",
              "      <td>1</td>\n",
              "      <td>2010-02-05</td>\n",
              "      <td>42.31</td>\n",
              "      <td>2.572</td>\n",
              "      <td>0.0</td>\n",
              "      <td>0.0</td>\n",
              "      <td>0.0</td>\n",
              "      <td>0.0</td>\n",
              "      <td>0.0</td>\n",
              "      <td>211.096358</td>\n",
              "      <td>...</td>\n",
              "      <td>False</td>\n",
              "      <td>151315</td>\n",
              "      <td>1.0</td>\n",
              "      <td>24924.50</td>\n",
              "      <td>2010</td>\n",
              "      <td>2</td>\n",
              "      <td>5</td>\n",
              "      <td>1</td>\n",
              "      <td>0</td>\n",
              "      <td>0</td>\n",
              "    </tr>\n",
              "    <tr>\n",
              "      <th>1</th>\n",
              "      <td>1</td>\n",
              "      <td>2010-02-05</td>\n",
              "      <td>42.31</td>\n",
              "      <td>2.572</td>\n",
              "      <td>0.0</td>\n",
              "      <td>0.0</td>\n",
              "      <td>0.0</td>\n",
              "      <td>0.0</td>\n",
              "      <td>0.0</td>\n",
              "      <td>211.096358</td>\n",
              "      <td>...</td>\n",
              "      <td>False</td>\n",
              "      <td>151315</td>\n",
              "      <td>2.0</td>\n",
              "      <td>50605.27</td>\n",
              "      <td>2010</td>\n",
              "      <td>2</td>\n",
              "      <td>5</td>\n",
              "      <td>1</td>\n",
              "      <td>0</td>\n",
              "      <td>0</td>\n",
              "    </tr>\n",
              "    <tr>\n",
              "      <th>2</th>\n",
              "      <td>1</td>\n",
              "      <td>2010-02-05</td>\n",
              "      <td>42.31</td>\n",
              "      <td>2.572</td>\n",
              "      <td>0.0</td>\n",
              "      <td>0.0</td>\n",
              "      <td>0.0</td>\n",
              "      <td>0.0</td>\n",
              "      <td>0.0</td>\n",
              "      <td>211.096358</td>\n",
              "      <td>...</td>\n",
              "      <td>False</td>\n",
              "      <td>151315</td>\n",
              "      <td>3.0</td>\n",
              "      <td>13740.12</td>\n",
              "      <td>2010</td>\n",
              "      <td>2</td>\n",
              "      <td>5</td>\n",
              "      <td>1</td>\n",
              "      <td>0</td>\n",
              "      <td>0</td>\n",
              "    </tr>\n",
              "    <tr>\n",
              "      <th>3</th>\n",
              "      <td>1</td>\n",
              "      <td>2010-02-05</td>\n",
              "      <td>42.31</td>\n",
              "      <td>2.572</td>\n",
              "      <td>0.0</td>\n",
              "      <td>0.0</td>\n",
              "      <td>0.0</td>\n",
              "      <td>0.0</td>\n",
              "      <td>0.0</td>\n",
              "      <td>211.096358</td>\n",
              "      <td>...</td>\n",
              "      <td>False</td>\n",
              "      <td>151315</td>\n",
              "      <td>4.0</td>\n",
              "      <td>39954.04</td>\n",
              "      <td>2010</td>\n",
              "      <td>2</td>\n",
              "      <td>5</td>\n",
              "      <td>1</td>\n",
              "      <td>0</td>\n",
              "      <td>0</td>\n",
              "    </tr>\n",
              "    <tr>\n",
              "      <th>4</th>\n",
              "      <td>1</td>\n",
              "      <td>2010-02-05</td>\n",
              "      <td>42.31</td>\n",
              "      <td>2.572</td>\n",
              "      <td>0.0</td>\n",
              "      <td>0.0</td>\n",
              "      <td>0.0</td>\n",
              "      <td>0.0</td>\n",
              "      <td>0.0</td>\n",
              "      <td>211.096358</td>\n",
              "      <td>...</td>\n",
              "      <td>False</td>\n",
              "      <td>151315</td>\n",
              "      <td>5.0</td>\n",
              "      <td>32229.38</td>\n",
              "      <td>2010</td>\n",
              "      <td>2</td>\n",
              "      <td>5</td>\n",
              "      <td>1</td>\n",
              "      <td>0</td>\n",
              "      <td>0</td>\n",
              "    </tr>\n",
              "    <tr>\n",
              "      <th>5</th>\n",
              "      <td>1</td>\n",
              "      <td>2010-02-05</td>\n",
              "      <td>42.31</td>\n",
              "      <td>2.572</td>\n",
              "      <td>0.0</td>\n",
              "      <td>0.0</td>\n",
              "      <td>0.0</td>\n",
              "      <td>0.0</td>\n",
              "      <td>0.0</td>\n",
              "      <td>211.096358</td>\n",
              "      <td>...</td>\n",
              "      <td>False</td>\n",
              "      <td>151315</td>\n",
              "      <td>6.0</td>\n",
              "      <td>5749.03</td>\n",
              "      <td>2010</td>\n",
              "      <td>2</td>\n",
              "      <td>5</td>\n",
              "      <td>1</td>\n",
              "      <td>0</td>\n",
              "      <td>0</td>\n",
              "    </tr>\n",
              "    <tr>\n",
              "      <th>6</th>\n",
              "      <td>1</td>\n",
              "      <td>2010-02-05</td>\n",
              "      <td>42.31</td>\n",
              "      <td>2.572</td>\n",
              "      <td>0.0</td>\n",
              "      <td>0.0</td>\n",
              "      <td>0.0</td>\n",
              "      <td>0.0</td>\n",
              "      <td>0.0</td>\n",
              "      <td>211.096358</td>\n",
              "      <td>...</td>\n",
              "      <td>False</td>\n",
              "      <td>151315</td>\n",
              "      <td>7.0</td>\n",
              "      <td>21084.08</td>\n",
              "      <td>2010</td>\n",
              "      <td>2</td>\n",
              "      <td>5</td>\n",
              "      <td>1</td>\n",
              "      <td>0</td>\n",
              "      <td>0</td>\n",
              "    </tr>\n",
              "    <tr>\n",
              "      <th>7</th>\n",
              "      <td>1</td>\n",
              "      <td>2010-02-05</td>\n",
              "      <td>42.31</td>\n",
              "      <td>2.572</td>\n",
              "      <td>0.0</td>\n",
              "      <td>0.0</td>\n",
              "      <td>0.0</td>\n",
              "      <td>0.0</td>\n",
              "      <td>0.0</td>\n",
              "      <td>211.096358</td>\n",
              "      <td>...</td>\n",
              "      <td>False</td>\n",
              "      <td>151315</td>\n",
              "      <td>8.0</td>\n",
              "      <td>40129.01</td>\n",
              "      <td>2010</td>\n",
              "      <td>2</td>\n",
              "      <td>5</td>\n",
              "      <td>1</td>\n",
              "      <td>0</td>\n",
              "      <td>0</td>\n",
              "    </tr>\n",
              "    <tr>\n",
              "      <th>8</th>\n",
              "      <td>1</td>\n",
              "      <td>2010-02-05</td>\n",
              "      <td>42.31</td>\n",
              "      <td>2.572</td>\n",
              "      <td>0.0</td>\n",
              "      <td>0.0</td>\n",
              "      <td>0.0</td>\n",
              "      <td>0.0</td>\n",
              "      <td>0.0</td>\n",
              "      <td>211.096358</td>\n",
              "      <td>...</td>\n",
              "      <td>False</td>\n",
              "      <td>151315</td>\n",
              "      <td>9.0</td>\n",
              "      <td>16930.99</td>\n",
              "      <td>2010</td>\n",
              "      <td>2</td>\n",
              "      <td>5</td>\n",
              "      <td>1</td>\n",
              "      <td>0</td>\n",
              "      <td>0</td>\n",
              "    </tr>\n",
              "    <tr>\n",
              "      <th>9</th>\n",
              "      <td>1</td>\n",
              "      <td>2010-02-05</td>\n",
              "      <td>42.31</td>\n",
              "      <td>2.572</td>\n",
              "      <td>0.0</td>\n",
              "      <td>0.0</td>\n",
              "      <td>0.0</td>\n",
              "      <td>0.0</td>\n",
              "      <td>0.0</td>\n",
              "      <td>211.096358</td>\n",
              "      <td>...</td>\n",
              "      <td>False</td>\n",
              "      <td>151315</td>\n",
              "      <td>10.0</td>\n",
              "      <td>30721.50</td>\n",
              "      <td>2010</td>\n",
              "      <td>2</td>\n",
              "      <td>5</td>\n",
              "      <td>1</td>\n",
              "      <td>0</td>\n",
              "      <td>0</td>\n",
              "    </tr>\n",
              "  </tbody>\n",
              "</table>\n",
              "<p>10 rows × 21 columns</p>\n",
              "</div>"
            ],
            "text/plain": [
              "   Store       Date  Temperature  Fuel_Price  MarkDown1  MarkDown2  MarkDown3  \\\n",
              "0      1 2010-02-05        42.31       2.572        0.0        0.0        0.0   \n",
              "1      1 2010-02-05        42.31       2.572        0.0        0.0        0.0   \n",
              "2      1 2010-02-05        42.31       2.572        0.0        0.0        0.0   \n",
              "3      1 2010-02-05        42.31       2.572        0.0        0.0        0.0   \n",
              "4      1 2010-02-05        42.31       2.572        0.0        0.0        0.0   \n",
              "5      1 2010-02-05        42.31       2.572        0.0        0.0        0.0   \n",
              "6      1 2010-02-05        42.31       2.572        0.0        0.0        0.0   \n",
              "7      1 2010-02-05        42.31       2.572        0.0        0.0        0.0   \n",
              "8      1 2010-02-05        42.31       2.572        0.0        0.0        0.0   \n",
              "9      1 2010-02-05        42.31       2.572        0.0        0.0        0.0   \n",
              "\n",
              "   MarkDown4  MarkDown5         CPI  ...  IsHoliday_x    Size  Dept  \\\n",
              "0        0.0        0.0  211.096358  ...        False  151315   1.0   \n",
              "1        0.0        0.0  211.096358  ...        False  151315   2.0   \n",
              "2        0.0        0.0  211.096358  ...        False  151315   3.0   \n",
              "3        0.0        0.0  211.096358  ...        False  151315   4.0   \n",
              "4        0.0        0.0  211.096358  ...        False  151315   5.0   \n",
              "5        0.0        0.0  211.096358  ...        False  151315   6.0   \n",
              "6        0.0        0.0  211.096358  ...        False  151315   7.0   \n",
              "7        0.0        0.0  211.096358  ...        False  151315   8.0   \n",
              "8        0.0        0.0  211.096358  ...        False  151315   9.0   \n",
              "9        0.0        0.0  211.096358  ...        False  151315  10.0   \n",
              "\n",
              "   Weekly_Sales  year  month  day  Type_A  Type_B  Type_C  \n",
              "0      24924.50  2010      2    5       1       0       0  \n",
              "1      50605.27  2010      2    5       1       0       0  \n",
              "2      13740.12  2010      2    5       1       0       0  \n",
              "3      39954.04  2010      2    5       1       0       0  \n",
              "4      32229.38  2010      2    5       1       0       0  \n",
              "5       5749.03  2010      2    5       1       0       0  \n",
              "6      21084.08  2010      2    5       1       0       0  \n",
              "7      40129.01  2010      2    5       1       0       0  \n",
              "8      16930.99  2010      2    5       1       0       0  \n",
              "9      30721.50  2010      2    5       1       0       0  \n",
              "\n",
              "[10 rows x 21 columns]"
            ]
          },
          "execution_count": 38,
          "metadata": {},
          "output_type": "execute_result"
        }
      ],
      "source": [
        "dfa.head(10)"
      ]
    },
    {
      "cell_type": "code",
      "execution_count": 39,
      "metadata": {
        "id": "nWP23TOcUsUK"
      },
      "outputs": [],
      "source": [
        "dfa['Store'] = dfa['Store'].apply(str)\n",
        "dfa['Dept'] = dfa['Dept'].apply(str)"
      ]
    },
    {
      "cell_type": "code",
      "execution_count": 40,
      "metadata": {
        "colab": {
          "base_uri": "https://localhost:8080/"
        },
        "id": "iHVijp3nW3CD",
        "outputId": "2c3d7452-36cf-4c10-9e82-222ab661efca"
      },
      "outputs": [
        {
          "name": "stdout",
          "output_type": "stream",
          "text": [
            "<class 'pandas.core.frame.DataFrame'>\n",
            "Int64Index: 421570 entries, 0 to 423285\n",
            "Data columns (total 21 columns):\n",
            " #   Column        Non-Null Count   Dtype         \n",
            "---  ------        --------------   -----         \n",
            " 0   Store         421570 non-null  object        \n",
            " 1   Date          421570 non-null  datetime64[ns]\n",
            " 2   Temperature   421570 non-null  float64       \n",
            " 3   Fuel_Price    421570 non-null  float64       \n",
            " 4   MarkDown1     421570 non-null  float64       \n",
            " 5   MarkDown2     421570 non-null  float64       \n",
            " 6   MarkDown3     421570 non-null  float64       \n",
            " 7   MarkDown4     421570 non-null  float64       \n",
            " 8   MarkDown5     421570 non-null  float64       \n",
            " 9   CPI           421570 non-null  float64       \n",
            " 10  Unemployment  421570 non-null  float64       \n",
            " 11  IsHoliday_x   421570 non-null  bool          \n",
            " 12  Size          421570 non-null  int64         \n",
            " 13  Dept          421570 non-null  object        \n",
            " 14  Weekly_Sales  421570 non-null  float64       \n",
            " 15  year          421570 non-null  int64         \n",
            " 16  month         421570 non-null  int64         \n",
            " 17  day           421570 non-null  int64         \n",
            " 18  Type_A        421570 non-null  uint8         \n",
            " 19  Type_B        421570 non-null  uint8         \n",
            " 20  Type_C        421570 non-null  uint8         \n",
            "dtypes: bool(1), datetime64[ns](1), float64(10), int64(4), object(2), uint8(3)\n",
            "memory usage: 75.6+ MB\n"
          ]
        }
      ],
      "source": [
        "dfa.info()"
      ]
    },
    {
      "cell_type": "code",
      "execution_count": 41,
      "metadata": {
        "id": "IkXY7XofXyBp"
      },
      "outputs": [],
      "source": [
        "dfa = pd.get_dummies(dfa)"
      ]
    },
    {
      "cell_type": "code",
      "execution_count": 42,
      "metadata": {},
      "outputs": [],
      "source": [
        "dfFinal = dfa"
      ]
    },
    {
      "cell_type": "code",
      "execution_count": 43,
      "metadata": {
        "id": "rkhz5-0RX974"
      },
      "outputs": [],
      "source": [
        "# dfFinal = dfa.sample(1000)"
      ]
    },
    {
      "cell_type": "code",
      "execution_count": 44,
      "metadata": {
        "colab": {
          "base_uri": "https://localhost:8080/"
        },
        "id": "9KYBFuGQY5Gw",
        "outputId": "8afa8b58-00ea-44bf-cf3d-eb4b13aedd53"
      },
      "outputs": [],
      "source": [
        "# dfFinal.shape"
      ]
    },
    {
      "cell_type": "markdown",
      "metadata": {},
      "source": [
        "### Arquivos de treino e teste"
      ]
    },
    {
      "cell_type": "code",
      "execution_count": 45,
      "metadata": {
        "id": "kKoVB-B4ZHcS"
      },
      "outputs": [],
      "source": [
        "X = dfFinal.drop(columns=['Weekly_Sales','Date','year','month','day'])\n",
        "y = dfFinal['Weekly_Sales']"
      ]
    },
    {
      "cell_type": "code",
      "execution_count": 46,
      "metadata": {
        "id": "ZbBglxBGZFHE"
      },
      "outputs": [],
      "source": [
        "from sklearn.model_selection import train_test_split\n",
        "\n",
        "X_train, X_test, y_train, y_test = train_test_split(X, y, test_size=0.2, random_state=42) "
      ]
    },
    {
      "cell_type": "code",
      "execution_count": 47,
      "metadata": {
        "colab": {
          "base_uri": "https://localhost:8080/"
        },
        "id": "6nsnawjvaEdi",
        "outputId": "a3206247-32e6-44ee-e3dd-7a6d1c22492a"
      },
      "outputs": [
        {
          "name": "stdout",
          "output_type": "stream",
          "text": [
            "<class 'pandas.core.frame.DataFrame'>\n",
            "Int64Index: 337256 entries, 139012 to 122426\n",
            "Columns: 140 entries, Temperature to Dept_99.0\n",
            "dtypes: bool(1), float64(9), int64(1), uint8(129)\n",
            "memory usage: 70.1 MB\n"
          ]
        }
      ],
      "source": [
        "X_train.info()"
      ]
    },
    {
      "cell_type": "code",
      "execution_count": 48,
      "metadata": {
        "id": "caAXtaojZxz4"
      },
      "outputs": [],
      "source": [
        "#StandardScaler\n",
        "from sklearn.preprocessing import StandardScaler\n",
        "\n",
        "std = StandardScaler()\n",
        "X_train_std = std.fit_transform(X_train)\n",
        "X_test_std = std.transform(X_test) "
      ]
    },
    {
      "cell_type": "markdown",
      "metadata": {},
      "source": [
        "## Modelos"
      ]
    },
    {
      "cell_type": "markdown",
      "metadata": {
        "id": "EbOZkxS1bYTs"
      },
      "source": [
        "### Linear Regression"
      ]
    },
    {
      "cell_type": "code",
      "execution_count": 49,
      "metadata": {
        "id": "_HYELKUOaYq5"
      },
      "outputs": [],
      "source": [
        "from sklearn.linear_model import LinearRegression\n",
        "regLinear = LinearRegression().fit(X_train_std, y_train) \n"
      ]
    },
    {
      "cell_type": "code",
      "execution_count": 50,
      "metadata": {
        "id": "4Dh9aSDNawfg"
      },
      "outputs": [],
      "source": [
        "y_predLinear = regLinear.predict(X_test_std)\n"
      ]
    },
    {
      "cell_type": "code",
      "execution_count": 51,
      "metadata": {
        "id": "zrY2-eJ9dXWU"
      },
      "outputs": [],
      "source": [
        "from sklearn.metrics import mean_absolute_error, mean_squared_error, r2_score"
      ]
    },
    {
      "cell_type": "code",
      "execution_count": 52,
      "metadata": {
        "colab": {
          "base_uri": "https://localhost:8080/"
        },
        "id": "RhmMHBURbVVL",
        "outputId": "b129891f-4ad2-4892-fb0c-a4ec8ca20af3"
      },
      "outputs": [
        {
          "name": "stdout",
          "output_type": "stream",
          "text": [
            "MAE: 8191.637251283133\n",
            "RMSE: 183264544.84038535\n",
            "R²: 0.6514061312934228\n"
          ]
        }
      ],
      "source": [
        "print(\"MAE: {}\".format(mean_absolute_error(y_test,y_predLinear)))\n",
        "print(\"RMSE: {}\".format(mean_squared_error(y_test,y_predLinear)))\n",
        "print(\"R²: {}\".format(r2_score(y_test,y_predLinear))) "
      ]
    },
    {
      "cell_type": "code",
      "execution_count": 53,
      "metadata": {
        "id": "Arw3mFiHhi5_"
      },
      "outputs": [],
      "source": [
        "metricas = {}"
      ]
    },
    {
      "cell_type": "code",
      "execution_count": 54,
      "metadata": {
        "id": "p5uX-o2WhnFA"
      },
      "outputs": [],
      "source": [
        "metricas[\"LinearRegressor\"]={\n",
        "                            \"MAE\":mean_absolute_error(y_test,y_predLinear),\n",
        "                            \"RMSE\":mean_squared_error(y_test,y_predLinear),\n",
        "                            \"R²\":r2_score(y_test,y_predLinear)\n",
        "} "
      ]
    },
    {
      "cell_type": "markdown",
      "metadata": {
        "id": "-cfdvhxScOSK"
      },
      "source": [
        "### SGD Regressor"
      ]
    },
    {
      "cell_type": "code",
      "execution_count": 55,
      "metadata": {
        "id": "Mxx4nFn_cQeI"
      },
      "outputs": [
        {
          "name": "stderr",
          "output_type": "stream",
          "text": [
            "C:\\ProgramData\\Anaconda3\\lib\\site-packages\\sklearn\\linear_model\\_stochastic_gradient.py:1220: ConvergenceWarning: Maximum number of iteration reached before convergence. Consider increasing max_iter to improve the fit.\n",
            "  warnings.warn(\"Maximum number of iteration reached before \"\n"
          ]
        }
      ],
      "source": [
        "from sklearn.linear_model import SGDRegressor\n",
        "\n",
        "regSGD = SGDRegressor().fit(X_train_std, y_train) "
      ]
    },
    {
      "cell_type": "code",
      "execution_count": 56,
      "metadata": {
        "id": "PhpEbge0cn4K"
      },
      "outputs": [],
      "source": [
        "y_predSGD = regSGD.predict(X_test_std)"
      ]
    },
    {
      "cell_type": "code",
      "execution_count": 57,
      "metadata": {
        "colab": {
          "base_uri": "https://localhost:8080/"
        },
        "id": "LYsY6lqld5aG",
        "outputId": "a251e221-84b4-485e-d3fb-845668d9923a"
      },
      "outputs": [
        {
          "name": "stdout",
          "output_type": "stream",
          "text": [
            "MAE: 87686762.76261489\n",
            "RMSE: 6.488278554093979e+19\n",
            "R²: -123415804424.64241\n"
          ]
        }
      ],
      "source": [
        "print(\"MAE: {}\".format(mean_absolute_error(y_test,y_predSGD)))\n",
        "print(\"RMSE: {}\".format(mean_squared_error(y_test,y_predSGD)))\n",
        "print(\"R²: {}\".format(r2_score(y_test,y_predSGD))) "
      ]
    },
    {
      "cell_type": "code",
      "execution_count": 58,
      "metadata": {
        "id": "aoau72kUiDAU"
      },
      "outputs": [],
      "source": [
        "metricas[\"SGDRegressor\"]={\n",
        "                            \"MAE\":mean_absolute_error(y_test,y_predSGD),\n",
        "                            \"RMSE\":mean_squared_error(y_test,y_predSGD),\n",
        "                            \"R²\":r2_score(y_test,y_predSGD)\n",
        "} "
      ]
    },
    {
      "cell_type": "markdown",
      "metadata": {
        "id": "8F57Z56wcyNQ"
      },
      "source": [
        "### Gradient Boosting Regressor"
      ]
    },
    {
      "cell_type": "code",
      "execution_count": 59,
      "metadata": {
        "id": "f1NFvjyZc2It"
      },
      "outputs": [],
      "source": [
        "from sklearn.ensemble import GradientBoostingRegressor\n",
        "regGradient = GradientBoostingRegressor().fit(X_train_std, y_train) "
      ]
    },
    {
      "cell_type": "code",
      "execution_count": 60,
      "metadata": {
        "id": "fBYG-gxmdKAf"
      },
      "outputs": [],
      "source": [
        "y_predGradient = regGradient.predict(X_test_std)"
      ]
    },
    {
      "cell_type": "code",
      "execution_count": 61,
      "metadata": {
        "colab": {
          "base_uri": "https://localhost:8080/"
        },
        "id": "JJRn5t4ld-AR",
        "outputId": "6555c4f4-f828-4987-87ac-118a0197b77e"
      },
      "outputs": [
        {
          "name": "stdout",
          "output_type": "stream",
          "text": [
            "MAE: 8076.261561398358\n",
            "RMSE: 154304684.20447668\n",
            "R²: 0.7064916900689469\n"
          ]
        }
      ],
      "source": [
        "print(\"MAE: {}\".format(mean_absolute_error(y_test,y_predGradient)))\n",
        "print(\"RMSE: {}\".format(mean_squared_error(y_test,y_predGradient)))\n",
        "print(\"R²: {}\".format(r2_score(y_test,y_predGradient))) "
      ]
    },
    {
      "cell_type": "code",
      "execution_count": 62,
      "metadata": {
        "id": "dLv_MzRfiJd3"
      },
      "outputs": [],
      "source": [
        "metricas[\"GradientBoostingRegressor\"]={\n",
        "                            \"MAE\":mean_absolute_error(y_test,y_predGradient),\n",
        "                            \"RMSE\":mean_squared_error(y_test,y_predGradient),\n",
        "                            \"R²\":r2_score(y_test,y_predGradient)\n",
        "} "
      ]
    },
    {
      "cell_type": "markdown",
      "metadata": {
        "id": "N11aJzkieREj"
      },
      "source": [
        "### Extra Tree Regressor"
      ]
    },
    {
      "cell_type": "code",
      "execution_count": 63,
      "metadata": {
        "id": "JRARoYIYehR9"
      },
      "outputs": [],
      "source": [
        "from sklearn.ensemble import ExtraTreesRegressor\n",
        "\n",
        "# regExtraTree = ExtraTreesRegressor().fit(X_train_std, y_train) \n",
        "regExtraTree = ExtraTreesRegressor()"
      ]
    },
    {
      "cell_type": "code",
      "execution_count": 64,
      "metadata": {
        "id": "fCkWx98DfMXj"
      },
      "outputs": [],
      "source": [
        "y_predExtraTree = regExtraTree.predict(X_test_std)"
      ]
    },
    {
      "cell_type": "code",
      "execution_count": 65,
      "metadata": {
        "colab": {
          "base_uri": "https://localhost:8080/"
        },
        "id": "fyWRPM59fRS4",
        "outputId": "8f93433f-e7d3-48fd-e7a8-692114cca005"
      },
      "outputs": [
        {
          "ename": "NameError",
          "evalue": "name 'y_predExtraTree' is not defined",
          "output_type": "error",
          "traceback": [
            "\u001b[1;31m---------------------------------------------------------------------------\u001b[0m",
            "\u001b[1;31mNameError\u001b[0m                                 Traceback (most recent call last)",
            "\u001b[1;32m<ipython-input-65-b85fb1ab10d2>\u001b[0m in \u001b[0;36m<module>\u001b[1;34m\u001b[0m\n\u001b[1;32m----> 1\u001b[1;33m \u001b[0mprint\u001b[0m\u001b[1;33m(\u001b[0m\u001b[1;34m\"MAE: {}\"\u001b[0m\u001b[1;33m.\u001b[0m\u001b[0mformat\u001b[0m\u001b[1;33m(\u001b[0m\u001b[0mmean_absolute_error\u001b[0m\u001b[1;33m(\u001b[0m\u001b[0my_test\u001b[0m\u001b[1;33m,\u001b[0m\u001b[0my_predExtraTree\u001b[0m\u001b[1;33m)\u001b[0m\u001b[1;33m)\u001b[0m\u001b[1;33m)\u001b[0m\u001b[1;33m\u001b[0m\u001b[1;33m\u001b[0m\u001b[0m\n\u001b[0m\u001b[0;32m      2\u001b[0m \u001b[0mprint\u001b[0m\u001b[1;33m(\u001b[0m\u001b[1;34m\"RMSE: {}\"\u001b[0m\u001b[1;33m.\u001b[0m\u001b[0mformat\u001b[0m\u001b[1;33m(\u001b[0m\u001b[0mmean_squared_error\u001b[0m\u001b[1;33m(\u001b[0m\u001b[0my_test\u001b[0m\u001b[1;33m,\u001b[0m\u001b[0my_predExtraTree\u001b[0m\u001b[1;33m)\u001b[0m\u001b[1;33m)\u001b[0m\u001b[1;33m)\u001b[0m\u001b[1;33m\u001b[0m\u001b[1;33m\u001b[0m\u001b[0m\n\u001b[0;32m      3\u001b[0m \u001b[0mprint\u001b[0m\u001b[1;33m(\u001b[0m\u001b[1;34m\"R²: {}\"\u001b[0m\u001b[1;33m.\u001b[0m\u001b[0mformat\u001b[0m\u001b[1;33m(\u001b[0m\u001b[0mr2_score\u001b[0m\u001b[1;33m(\u001b[0m\u001b[0my_test\u001b[0m\u001b[1;33m,\u001b[0m\u001b[0my_predExtraTree\u001b[0m\u001b[1;33m)\u001b[0m\u001b[1;33m)\u001b[0m\u001b[1;33m)\u001b[0m\u001b[1;33m\u001b[0m\u001b[1;33m\u001b[0m\u001b[0m\n",
            "\u001b[1;31mNameError\u001b[0m: name 'y_predExtraTree' is not defined"
          ]
        }
      ],
      "source": [
        "print(\"MAE: {}\".format(mean_absolute_error(y_test,y_predExtraTree)))\n",
        "print(\"RMSE: {}\".format(mean_squared_error(y_test,y_predExtraTree)))\n",
        "print(\"R²: {}\".format(r2_score(y_test,y_predExtraTree))) "
      ]
    },
    {
      "cell_type": "code",
      "execution_count": 66,
      "metadata": {
        "id": "XQmWmJGXiM-6"
      },
      "outputs": [
        {
          "ename": "NameError",
          "evalue": "name 'y_predExtraTree' is not defined",
          "output_type": "error",
          "traceback": [
            "\u001b[1;31m---------------------------------------------------------------------------\u001b[0m",
            "\u001b[1;31mNameError\u001b[0m                                 Traceback (most recent call last)",
            "\u001b[1;32m<ipython-input-66-40644efd00b9>\u001b[0m in \u001b[0;36m<module>\u001b[1;34m\u001b[0m\n\u001b[0;32m      1\u001b[0m metricas[\"ExtraTreesRegressor\"]={\n\u001b[1;32m----> 2\u001b[1;33m                             \u001b[1;34m\"MAE\"\u001b[0m\u001b[1;33m:\u001b[0m\u001b[0mmean_absolute_error\u001b[0m\u001b[1;33m(\u001b[0m\u001b[0my_test\u001b[0m\u001b[1;33m,\u001b[0m\u001b[0my_predExtraTree\u001b[0m\u001b[1;33m)\u001b[0m\u001b[1;33m,\u001b[0m\u001b[1;33m\u001b[0m\u001b[1;33m\u001b[0m\u001b[0m\n\u001b[0m\u001b[0;32m      3\u001b[0m                             \u001b[1;34m\"RMSE\"\u001b[0m\u001b[1;33m:\u001b[0m\u001b[0mmean_squared_error\u001b[0m\u001b[1;33m(\u001b[0m\u001b[0my_test\u001b[0m\u001b[1;33m,\u001b[0m\u001b[0my_predExtraTree\u001b[0m\u001b[1;33m)\u001b[0m\u001b[1;33m,\u001b[0m\u001b[1;33m\u001b[0m\u001b[1;33m\u001b[0m\u001b[0m\n\u001b[0;32m      4\u001b[0m                             \u001b[1;34m\"R²\"\u001b[0m\u001b[1;33m:\u001b[0m\u001b[0mr2_score\u001b[0m\u001b[1;33m(\u001b[0m\u001b[0my_test\u001b[0m\u001b[1;33m,\u001b[0m\u001b[0my_predExtraTree\u001b[0m\u001b[1;33m)\u001b[0m\u001b[1;33m\u001b[0m\u001b[1;33m\u001b[0m\u001b[0m\n\u001b[0;32m      5\u001b[0m } \n",
            "\u001b[1;31mNameError\u001b[0m: name 'y_predExtraTree' is not defined"
          ]
        }
      ],
      "source": [
        "metricas[\"ExtraTreesRegressor\"]={\n",
        "                            \"MAE\":mean_absolute_error(y_test,y_predExtraTree),\n",
        "                            \"RMSE\":mean_squared_error(y_test,y_predExtraTree),\n",
        "                            \"R²\":r2_score(y_test,y_predExtraTree)\n",
        "} "
      ]
    },
    {
      "cell_type": "code",
      "execution_count": 67,
      "metadata": {
        "id": "PH0Nky3Ulpd3"
      },
      "outputs": [],
      "source": [
        "from skopt import BayesSearchCV"
      ]
    },
    {
      "cell_type": "code",
      "execution_count": 68,
      "metadata": {
        "id": "K7-qwY01l5hJ"
      },
      "outputs": [],
      "source": [
        "params_grid = {\n",
        "    \"n_estimators\":[100, 150, 200],\n",
        "    \"criterion\":[\"mse\", \"mae\"],\n",
        "    \"max_depth\":[None, 2, 4, 5],\n",
        "    \"min_samples_split\":[2, 3, 4],\n",
        "    \"max_features\":['auto', 'sqrt', 'log2'],\n",
        "    'min_samples_leaf':[1, 2, 3],\n",
        "    \"bootstrap\":[False, True],\n",
        "    'min_weight_fraction_leaf':[0.0, 0.1, 0.2]\n",
        "} "
      ]
    },
    {
      "cell_type": "code",
      "execution_count": 69,
      "metadata": {
        "colab": {
          "base_uri": "https://localhost:8080/",
          "height": 1000
        },
        "id": "ITNDmAf7oGu4",
        "outputId": "59bc3941-831b-46ef-c92f-9effac04778e"
      },
      "outputs": [
        {
          "name": "stdout",
          "output_type": "stream",
          "text": [
            "Fitting 5 folds for each of 1 candidates, totalling 5 fits\n",
            "Fitting 5 folds for each of 1 candidates, totalling 5 fits\n"
          ]
        }
      ],
      "source": [
        "bayes_search = BayesSearchCV(regExtraTree, search_spaces=params_grid, n_jobs=-1,verbose=2)\n",
        "bayes_search.fit(X_train_std, y_train)"
      ]
    },
    {
      "cell_type": "code",
      "execution_count": null,
      "metadata": {},
      "outputs": [],
      "source": [
        "bayes_best = bayes_search.best_estimator_"
      ]
    },
    {
      "cell_type": "code",
      "execution_count": null,
      "metadata": {},
      "outputs": [],
      "source": [
        "bayes_best"
      ]
    },
    {
      "cell_type": "markdown",
      "metadata": {},
      "source": [
        "ExtraTreesRegressor(bootstrap=False, ccp_alpha=0.0, criterion='mse',\n",
        "                    max_depth=None, max_features='auto', max_leaf_nodes=None,\n",
        "                    max_samples=None, min_impurity_decrease=0.0,\n",
        "                    min_impurity_split=None, min_samples_leaf=1,\n",
        "                    min_samples_split=4, min_weight_fraction_leaf=0.0,\n",
        "                    n_estimators=150, n_jobs=None, oob_score=False,\n",
        "                    random_state=None, verbose=0, warm_start=False)"
      ]
    },
    {
      "cell_type": "code",
      "execution_count": null,
      "metadata": {},
      "outputs": [],
      "source": [
        "y_predExtraTreeBayes = bayes_best.predict(X_test)"
      ]
    },
    {
      "cell_type": "markdown",
      "metadata": {},
      "source": [
        "MAE: 16541.689135888886\n",
        "RMSE: 521229962.45900965\n",
        "R²: 0.08836052016468621"
      ]
    },
    {
      "cell_type": "markdown",
      "metadata": {
        "id": "nSzf01VFfT2u"
      },
      "source": [
        "### Random Forest Regressor"
      ]
    },
    {
      "cell_type": "code",
      "execution_count": null,
      "metadata": {
        "id": "K21p9mh5fW3r"
      },
      "outputs": [],
      "source": [
        "from sklearn.ensemble import RandomForestRegressor\n",
        "\n",
        "regRandomForest = RandomForestRegressor().fit(X_train_std, y_train) \n"
      ]
    },
    {
      "cell_type": "code",
      "execution_count": null,
      "metadata": {
        "id": "7dTI8FhCft1f"
      },
      "outputs": [],
      "source": [
        "y_predRandomForest = regRandomForest.predict(X_test_std)"
      ]
    },
    {
      "cell_type": "code",
      "execution_count": null,
      "metadata": {
        "colab": {
          "base_uri": "https://localhost:8080/"
        },
        "id": "ycU7O7Xrfy9J",
        "outputId": "d97b4396-09d1-4ae3-df07-14de3d21913a"
      },
      "outputs": [
        {
          "name": "stdout",
          "output_type": "stream",
          "text": [
            "MAE: 6997.627775000004\n",
            "RMSE: 204353817.8980566\n",
            "R²: 0.642581927999591\n"
          ]
        }
      ],
      "source": [
        "print(\"MAE: {}\".format(mean_absolute_error(y_test,y_predRandomForest)))\n",
        "print(\"RMSE: {}\".format(mean_squared_error(y_test,y_predRandomForest)))\n",
        "print(\"R²: {}\".format(r2_score(y_test,y_predRandomForest))) "
      ]
    },
    {
      "cell_type": "code",
      "execution_count": null,
      "metadata": {
        "id": "u678uyCuiQk9"
      },
      "outputs": [],
      "source": [
        "metricas[\"RandomForestRegressor\"]={\n",
        "                            \"MAE\":mean_absolute_error(y_test,y_predRandomForest),\n",
        "                            \"RMSE\":mean_squared_error(y_test,y_predRandomForest),\n",
        "                            \"R²\":r2_score(y_test,y_predRandomForest)\n",
        "} "
      ]
    },
    {
      "cell_type": "markdown",
      "metadata": {
        "id": "00u8RxEPf7iW"
      },
      "source": [
        "### Huber Regressor"
      ]
    },
    {
      "cell_type": "code",
      "execution_count": null,
      "metadata": {
        "id": "J1nJRC6Of-Hn"
      },
      "outputs": [],
      "source": [
        "from sklearn.linear_model import HuberRegressor\n",
        "\n",
        "regHuber = HuberRegressor().fit(X_train_std, y_train) "
      ]
    },
    {
      "cell_type": "code",
      "execution_count": null,
      "metadata": {
        "id": "syIt2Nz6gGPN"
      },
      "outputs": [],
      "source": [
        "y_predHuber = regHuber.predict(X_test_std)"
      ]
    },
    {
      "cell_type": "code",
      "execution_count": null,
      "metadata": {
        "colab": {
          "base_uri": "https://localhost:8080/"
        },
        "id": "9g8TnS6BgJOH",
        "outputId": "977e046d-2066-4f5d-a8e1-7657fc45608d"
      },
      "outputs": [
        {
          "name": "stdout",
          "output_type": "stream",
          "text": [
            "MAE: 7434.02247819663\n",
            "RMSE: 215314573.0950271\n",
            "R²: 0.6234113931377272\n"
          ]
        }
      ],
      "source": [
        "print(\"MAE: {}\".format(mean_absolute_error(y_test,y_predHuber)))\n",
        "print(\"RMSE: {}\".format(mean_squared_error(y_test,y_predHuber)))\n",
        "print(\"R²: {}\".format(r2_score(y_test,y_predHuber))) "
      ]
    },
    {
      "cell_type": "code",
      "execution_count": null,
      "metadata": {
        "id": "_1Hs0PmYiVEv"
      },
      "outputs": [],
      "source": [
        "metricas[\"HuberRegressor\"]={\n",
        "                            \"MAE\":mean_absolute_error(y_test,y_predHuber),\n",
        "                            \"RMSE\":mean_squared_error(y_test,y_predHuber),\n",
        "                            \"R²\":r2_score(y_test,y_predHuber)\n",
        "} "
      ]
    },
    {
      "cell_type": "code",
      "execution_count": null,
      "metadata": {
        "id": "XiWvvBpRhEdq"
      },
      "outputs": [],
      "source": [
        "resumo = pd.DataFrame.from_dict(metricas, orient='index') "
      ]
    },
    {
      "cell_type": "code",
      "execution_count": null,
      "metadata": {
        "colab": {
          "base_uri": "https://localhost:8080/",
          "height": 235
        },
        "id": "USAsrboribBY",
        "outputId": "e796dc03-ff67-40ea-843a-a38e0f47d172"
      },
      "outputs": [
        {
          "data": {
            "text/html": [
              "<div>\n",
              "<style scoped>\n",
              "    .dataframe tbody tr th:only-of-type {\n",
              "        vertical-align: middle;\n",
              "    }\n",
              "\n",
              "    .dataframe tbody tr th {\n",
              "        vertical-align: top;\n",
              "    }\n",
              "\n",
              "    .dataframe thead th {\n",
              "        text-align: right;\n",
              "    }\n",
              "</style>\n",
              "<table border=\"1\" class=\"dataframe\">\n",
              "  <thead>\n",
              "    <tr style=\"text-align: right;\">\n",
              "      <th></th>\n",
              "      <th>MAE</th>\n",
              "      <th>RMSE</th>\n",
              "      <th>R²</th>\n",
              "    </tr>\n",
              "  </thead>\n",
              "  <tbody>\n",
              "    <tr>\n",
              "      <th>LinearRegressor</th>\n",
              "      <td>8900.949715</td>\n",
              "      <td>2.317575e+08</td>\n",
              "      <td>0.594652</td>\n",
              "    </tr>\n",
              "    <tr>\n",
              "      <th>SGDRegressor</th>\n",
              "      <td>8682.226676</td>\n",
              "      <td>2.274610e+08</td>\n",
              "      <td>0.602167</td>\n",
              "    </tr>\n",
              "    <tr>\n",
              "      <th>GradientBoostingRegressor</th>\n",
              "      <td>8953.380049</td>\n",
              "      <td>2.330669e+08</td>\n",
              "      <td>0.592362</td>\n",
              "    </tr>\n",
              "    <tr>\n",
              "      <th>ExtraTreesRegressor</th>\n",
              "      <td>6137.141101</td>\n",
              "      <td>1.819194e+08</td>\n",
              "      <td>0.681820</td>\n",
              "    </tr>\n",
              "    <tr>\n",
              "      <th>RandomForestRegressor</th>\n",
              "      <td>6997.627775</td>\n",
              "      <td>2.043538e+08</td>\n",
              "      <td>0.642582</td>\n",
              "    </tr>\n",
              "    <tr>\n",
              "      <th>HuberRegressor</th>\n",
              "      <td>7434.022478</td>\n",
              "      <td>2.153146e+08</td>\n",
              "      <td>0.623411</td>\n",
              "    </tr>\n",
              "  </tbody>\n",
              "</table>\n",
              "</div>"
            ],
            "text/plain": [
              "                                   MAE          RMSE        R²\n",
              "LinearRegressor            8900.949715  2.317575e+08  0.594652\n",
              "SGDRegressor               8682.226676  2.274610e+08  0.602167\n",
              "GradientBoostingRegressor  8953.380049  2.330669e+08  0.592362\n",
              "ExtraTreesRegressor        6137.141101  1.819194e+08  0.681820\n",
              "RandomForestRegressor      6997.627775  2.043538e+08  0.642582\n",
              "HuberRegressor             7434.022478  2.153146e+08  0.623411"
            ]
          },
          "execution_count": 165,
          "metadata": {},
          "output_type": "execute_result"
        }
      ],
      "source": [
        "resumo\n",
        "\n",
        "#MAE: ExtraTreesRegressor\n",
        "#RMSE: ExtraTreesRegressor\n",
        "#R²: ExtraTreesRegressor"
      ]
    }
  ],
  "metadata": {
    "colab": {
      "collapsed_sections": [],
      "name": "Day_6.ipynb",
      "provenance": []
    },
    "interpreter": {
      "hash": "b3ba2566441a7c06988d0923437866b63cedc61552a5af99d1f4fb67d367b25f"
    },
    "kernelspec": {
      "display_name": "Python 3.8.8 64-bit ('base': conda)",
      "name": "python3"
    },
    "language_info": {
      "codemirror_mode": {
        "name": "ipython",
        "version": 3
      },
      "file_extension": ".py",
      "mimetype": "text/x-python",
      "name": "python",
      "nbconvert_exporter": "python",
      "pygments_lexer": "ipython3",
      "version": "3.8.8"
    }
  },
  "nbformat": 4,
  "nbformat_minor": 0
}
